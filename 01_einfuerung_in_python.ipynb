{
 "cells": [
  {
   "cell_type": "markdown",
   "metadata": {},
   "source": [
    "# Einführung ins Programmieren\n",
    "\n",
    "Bei Programmieren geht es darum dem Computer Anweisungen zu erteilen, welche dieser dann umsetzt. Das ist sehr praktisch wenn es um Aufgaben geht die sehr viel Wiederholung brauchen und keine Kreativität erfordern. Darin ist der Computer sehr gut und extrem viel schneller als der Mensch. Der Computer kann jedoch die natürliche Sprache nicht erkennen und und daraus komplexe Aufgabenstellungen herausarbeiten. Das ist die Aufgabe des Programmieres. Damit uns der Computer aber versteht, müssen wir die Anweisungen in der Computersprache geben. Da wurde zum Glück sehr viel Fortschritt gebacht seit denn aller ersten Programmiersprachen, aber auch heute bereiten die modernen Programmiersprachen sehr vielen Anwendern grosse Probleme.\n",
    "\n",
    "Das muss jedoch nicht sein. Denn im Gegensatz zur natürlichen Sprache, ist bei einer Programmiersprache alles ganz eindeutig definiert. Es geht also nur darum diese Sprache ganz genau zu lernen. Aber auch das ist nicht so schwierig. Zum Beispiel ist Python extra so entwickelt worden dass es sehr gut für den Menschen lesbar ist.\n",
    "\n",
    "Wir beschäftigen uns in diesem Semester vor allem mit Python. Dabei lernen wir zuerst die Syntax von Python und dannach schauen wir uns einige Programmierbeispiele an. Wir lernen auch gleich mit Jupyter Notebooks zu arbeiten. Jupyter Notebooks sind eine Umgebung die wir verwenden können um einfach Dinge mit Python zu programmieren. Man kann es aber auch verwenden um DAten zu analysieren und man kann damit sogar den Taschenrechner ersetzen."
   ]
  },
  {
   "cell_type": "markdown",
   "metadata": {},
   "source": [
    "## Jupyter Notebooks\n",
    "\n",
    "Im Moment arbeiten wir gerade in einem Jupyter Notebook. Wir sagen dazu manchmal auch einfach nur Notebook. So ein Notebook besteht aus verschiedenen Zellen, die einfach hintereinander gehängt werden. Es gibt hier Grundsätzlich 2 verschiedene Typen von Zellen. Es gibt Zellen die Text enthalten (das was Sie gerade lesen ist so eine Zelle) und es gibt Code Zellen. Diese Code Zellen sind für uns interessanter, denn sie erhalten Code den wir ausführen können. In Jupyter Notebooks können Sie eine Zelle ausführen, indem Sie die Zelle anwählen und dann `Ctrl+Enter` drücken.\n",
    "\n",
    "**Aufgabe:**\n",
    "> In der nächsten Zelle finden Sie ein *Hello World!* Programm. Ein solches Programm gibt es eigentlich für jede Programmiersprache, und soll dem Programmierer einen ersten einfach Erfolg in seiner Karriere bieten. \n",
    ">\n",
    "> Wählen Sie die nächste Zelle an, und führen Sie diese mit `Ctrl+Enter` aus."
   ]
  },
  {
   "cell_type": "code",
   "execution_count": null,
   "metadata": {},
   "outputs": [],
   "source": [
    "print('Hello World!')"
   ]
  },
  {
   "cell_type": "markdown",
   "metadata": {},
   "source": [
    "## Bravo\n",
    "\n",
    "Sie sehen jetzt das unter der Zelle der Text *Hello World!* ausgegeben wurde. Für Sie mag dies nichts besonderen sein, aber als Computer noch ganz neu waren, war es nicht immer ganz einfach eine Textausgabe auf dem Bildschirm zu erhalten. Das ist also bereits ein grosser Erfolg für einen Programmierer. Für moderne Systeme und jetzt natürlich auch für uns, geht es bei einem solchen Programm mehr darum zu überprüfen ob ihr System richtig konfiguriert ist, und ob sich ihr Code auch ausführen lässt.\n",
    "\n",
    "Aber es ist für uns auch ein sehr wichtiges Werkzeug, denn wir können den `print`-Befehl verwenden um Berechnungen die wir im Programm gemacht haben für uns sichtbar zu machen. Da helfen uns die Notebooks bis zu einem gewissen Grad auch ein wenig, aber es ist besser immer den `print`-Befehl zu verwenden.\n",
    "\n",
    "**Aufgabe:**\n",
    "> In der nächsten Zelle finden Sie eine leere Code-Zelle. Schreiben Sie hier ihr eigenes *Hello World!* Programm, das Sie mit Ihrem Namen statt mit *World* begrüsst."
   ]
  },
  {
   "cell_type": "code",
   "execution_count": null,
   "metadata": {},
   "outputs": [],
   "source": []
  },
  {
   "cell_type": "markdown",
   "metadata": {},
   "source": [
    "## Sehr gut\n",
    "\n",
    "Sie haben jetzt bereits realtiv viel über das Programmieren gelernt. Zum Beispiel wissen Sie jetzt dass das was ausgegeben werden soll in `()` stehen muss. Ausserdem haben Sie sicher auch gemerkt das wir diese Zeichen `''` brauchen. Diese werden benötigt um Python mitzuteilen das hier eine Zeichenkette kommt.\n",
    "\n",
    "Das scheint für uns als Mensch doch eher merkwürdig, denn es ist ja klar dass der Teil in den Klammern ausgegben werden soll. Aber wie wir weiter oben bereits angetönt haben, es ist für den Computer sehr wichtig das alles klar und Eindeutig definiert ist. So wie wir die `()` verwenden um Start und Ende von etwas klar zu machen, können wir `''` verwenden, um den Start und das Ende von einer Zeichenkette klar zu machen."
   ]
  },
  {
   "cell_type": "markdown",
   "metadata": {},
   "source": [
    "## Zeichenketten\n",
    "\n",
    "Der Computer wäre aber nicht sehr nützlich wenn er nur vom Mensch vorgegebene Zeichenketten ausgeben kann. Dann wäre er ha gerade mal so gut wie eine Schreibmaschine. Wir wissen aber alle das der Computer viel mehr kann, und natürlich kann auch Python sehr viel mehr. Wir können zum Beispiel Zeichenketten miteinander Verknüpfen, also diese Einfach aneinander hängen. Das machen wir mit einem einfachen `+`.\n",
    "\n",
    "**Aufgabe:**\n",
    "> Schreiben Sie ein neues *Hello Name!* Programm, welches die Zeichenkette *Hello Name!* selber zusammen setzt. Verwenden Sie dafür den `+` Operator."
   ]
  },
  {
   "cell_type": "code",
   "execution_count": null,
   "metadata": {},
   "outputs": [],
   "source": []
  },
  {
   "cell_type": "markdown",
   "metadata": {},
   "source": [
    "## Toll\n",
    "\n",
    "Sie sind auf bestem Weg ein Programmierer zu werden.\n",
    "\n",
    "Aber nur eine Verknüpfung von Zeichenketten scheint auch noch nicht so toll zu sein. Da muss doch noch mehr gehen. Und das geht auch mit Variablen. Variablen sind einer der wichtigsten Bausteine beim Programmieren. Eine Variable ist ncihts aderes wie ein Speicherplatz den sich der Computer gemerkt hat. Das heisst für Sie also, Sie können dem Computer sagen was er speichern soll. Ganz korrekt würde man hier sagen: **man weisst einer Variablen einen Wert zu**. Um wirklich zu verstehen was hier passiert, ist dieser Satz sehr wichtig. Der Satz wird an folgendem Beispiel erklärt:\n",
    "\n",
    "```python\n",
    "name = 'Cedric'\n",
    "```\n",
    "\n",
    "In dem Code hier wird der Variablen `name` der Wert `'Cedric'` zugewiesen. Es ist wichtig dass wir das hier richtig verstehen. Immer wenn wir eine Zeile Code schreiben, geben wir dem Computer damit eine Anweisung. Hier ist die Anweisung dass der Computer den Wert `'Cedric'` in der Variablen `name` speichern soll. Für uns scheint es irgendwie intuitiver zu sein das ganze zu lesen als `name` ist gleich `'Cedric'`. Das ist nicht unbedingt falsch, denn in der Variable `name` ist nach dem ausführen dieser Zeile der Wert `'Cedric'` gespeichert. Wir sollten es jedoch mehr als Anweisung lesen, denn dass ist wie wir schlussendlich mit dem Computer interagieren. Wir geben dem Computer Anweisungen die er so ausführt wie wir sie im geben.\n",
    "\n",
    "Um zu überprüfen ob Sie diesen Teil wirklich verstanden haben, implementieren Sie die folgende Aufgabe. Sollten Sie Probleme damit haben, lesen Sie diese Zelle nochmals ganz genau durch.\n",
    "\n",
    "**Aufgabe:**\n",
    "> Weisen Sie der Variable `welcome` den Wert `'Hallo'` zu.\n",
    ">\n",
    "> Weisen Sie der Variable `name` Ihr Name als Wert zu.\n",
    ">\n",
    "> Erzeugen Sie eine neue Variable `greeting`, und weisen Sie dieser Variable folgenden Wert zu: Den Wert der Variablen `welcome` verknüpft mit einem Leerzeichen und dem Wert der Variablen `name`.\n",
    ">\n",
    "> Geben Sie den Wert der Variable `greeting` mit dem `print`-Befehl aus."
   ]
  },
  {
   "cell_type": "code",
   "execution_count": null,
   "metadata": {},
   "outputs": [],
   "source": []
  },
  {
   "cell_type": "markdown",
   "metadata": {},
   "source": [
    "**Lösung:**\n",
    "\n",
    "Hier finden Sie die Lösung der letzten Aufgabe. Vergleichen Sie Ihren Code mit dieser Lösung um sicher zu sein dass Sie alles richtig verstanden haben. Schauen Sie sich die Lösung erst an wenn Sie denken dass Sie die Aufgabe so gelöst haben wie Sie beschrieben wurde.\n",
    "\n",
    "```python\n",
    "welcome = 'Hallo'\n",
    "name = 'Cedric'\n",
    "greeting = welcome + ' ' + name\n",
    "print(greeting)\n",
    "```\n",
    "\n",
    "## Mehrere Anweisungen\n",
    "\n",
    "Sie haben das sicher selbst schon gemerkt, wenn Sie mehrere Anweisungen in einer Zelle ausführen möchten, dann schreiben Sie diese einfach untereinander hin. Python weiss dann dass pro Zeile einen Anweisung steht. Das ist nicht in allen Programmiersprachen gleich. Die meisten brauchen ein spezielles Zeichen um zu wissen wo eine Anweisung beginnt und wo diese fertig ist. Weil Python hauptsächlich für leserlichkeit gemacht wurde, hat man sich hier entschieden kein solches spezielles Zeichen einzuführen, sondern alles auf einzelnen Zeilen zu machen. Weil in Python auf diese speziellen Zeichen verzichtet wird, ist es aber wichtig auf die Einrückung zu achten. \n",
    "\n",
    "**Aufgabe:**\n",
    "> Führen Sie die nächste Zelle aus, und schauen Sie sich die Fehlermeldung genau an."
   ]
  },
  {
   "cell_type": "code",
   "execution_count": null,
   "metadata": {},
   "outputs": [],
   "source": [
    "print('Das geht noch!')\n",
    "    print('Das hier geht nicht!!!')"
   ]
  },
  {
   "cell_type": "markdown",
   "metadata": {},
   "source": [
    "## Fehler\n",
    "\n",
    "Wenn Sie die Zelle oben ausführen, sehen Sie das ein `IndentationError` geworfen wird. Wenn Sie das übersetzen, erhalten Sie einen *Einrückungs*-Fehler. Python sagt uns hier also dass etwas falsch eingedückt ist.\n",
    "\n",
    "Das ist für uns eigentlich noch nicht so wichtig, denn wir arbeiten noch nicht mit Blöcken, aber falls Sie mal Code aus dem Internet oder sonst wo her kopieren, kann das ein heufiger Fehler sein. Das scheint sehr penetrant von Python zu sein, dass es diesen Code oben nicht verstehen will, und das mit der Einrückung ist auch sehr oft Kritik an dieser Sprache, aber das schöne daran ist, dass es uns dazu zwingt, lesbaren Code zu schreiben."
   ]
  },
  {
   "cell_type": "markdown",
   "metadata": {},
   "source": [
    "## Computerspiel selber schreiben\n",
    "\n",
    "Bis jetzt können wir Zeichenketten in Variablen speichern uns diese miteinander verknüpfen. Und wir können Zeichenketten und Variablen auf anzeigen lassen, mit dem `print`-Befehl. Das scheint aber alles nicht sehr nützlich zu sein. Wie könnte man damit ein Computerspiel programmieren?\n",
    "\n",
    "Ein Computerspiel zu programmieren ist vielleicht noch ein wenig weit weg, aber auch nicht so weit wie Sie denken. Was wir bis jetzt noch nicht können, ist eine Eingabe vom Benutzer anzunehmen und diese mit dem Computer zu verarbeiten. Für ein potenzielles Computerspiel, wäre das aber sicher nötig. Glücklicherweise hat Python eine sehr einfache Art und Weise eine Eingabe vom Benutzer zu erhalten. Sie können einfach den Befehl `input()` verwenden.\n",
    "\n",
    "**Aufgabe:**\n",
    "> Führen Sie die nächste Zelle aus, und schauen Sie was passiert."
   ]
  },
  {
   "cell_type": "code",
   "execution_count": null,
   "metadata": {},
   "outputs": [],
   "source": [
    "name = input('Bitte geben Sie Ihren Namen ein: ')\n",
    "print('Hello ' + name)"
   ]
  },
  {
   "cell_type": "markdown",
   "metadata": {},
   "source": [
    "## Wow...\n",
    "\n",
    "Das scheint Sie nicht so recht zu beeindrucken. Eigentlich konnten Sie das ja vorher schon. Aber Sie müssen hier ein wenig anders überlegen. Zuvor haben Sie als Entwickler den Code geändert und ausgeführt. Jetzt in diesem Beispiel, führen Sie nur den Code aus, der ein Entwickler geschrieben hat, und der Code arbeitet mit Ihrer Eingabe. Wenn Sie sich das mal bewusst machen, sehen Sie bereits dass Sie den ersten Schritt zu einem Computerspiel gemacht haben. Jetzt können Sie Ihrem Charakter schon mal einen Namen geben, und der Rest des Spiels ist dann einfach zu Programmieren.\n",
    "\n",
    "Leider ist es nicht ganz so einfach den Rest auch noch zu machen, aber das werden Sie auch noch lernen. Zuerst müssen Sie aber mal verstehen was hier genau passiert ist, und dafür müssen wir eine neue Terminoligie einführen, damit wir alle vom gleichen sprechen."
   ]
  },
  {
   "cell_type": "markdown",
   "metadata": {},
   "source": [
    "## Funktionen\n",
    "\n",
    "Zuvor haben wir bereits vom `print`-Befehl gesprochen. Das war nicht ganz korrekt so. Eigentlich ist es eine `print`-Funktion, oder fot verwendet man auch `print`-Methode. Eine Funktion erkennt man daran dass sie nach dem Namen diese `()`-Klammern hat. Wie wir bei der `print`-Funktion gesehen haben, können wir der Funktion so Werte übergeben, mit der die Funktion etwas macht. Diese Werte nennen wir **Argumente**. Wenn Sie die `input`-Funktion betrachten, sehen Sie dass auch diese Funktion ein Argument hat.\n",
    "\n",
    "Wenn Sie sich nun den Code in der Zelle weiter oben nochmals anschauen, und sich genau überlegen was Sie jetzt eigentlich sehen und Ihr ganzes Wissen aus dieser Lektion anwenden, sollten Sie zu folgender Aussage kommen:\n",
    "\n",
    "> Der Variable `name` wird der Wert der Funktion `input` zugewiesen.\n",
    ">\n",
    "> Die Funktion `input` wird dafür mit dem Wert `'Bitte geben Sie Ihren Namen ein: '` aufgerufen.\n",
    ">\n",
    "> Die Funktion `print` wird mit dem Argument `name` aufgerufen, und gibt den Wert davon aus.\n",
    "\n",
    "Das meiste was Sie hier gelesen haben, sollte für Sie Sinn ergeben, denn es ist fast alles oben im Text erklärt. Wenn das nicht so ist, sollten Sie den Text nochmals genau lesen, oder Fragen stellen. Verständnis ist hier im Moment das wichtigste, denn der ganze Rest wird darauf aufbauen."
   ]
  },
  {
   "cell_type": "markdown",
   "metadata": {},
   "source": [
    "## Rückgabewert\n",
    "\n",
    "In der letzten Zelle ist vom Wert der Funktion `input` die Sprache. Aber was genau ist das. Der Wert einer Variablen ergibt ja Sinn, denn eine Variable soll ja einfach einen Wert speichern. ABer der Wert einer Funktion scheint hier noch unklar zu sein. Auch wenn es nicht ganz korrekt ist, nehmen wir die bereits aus der Mathematik bekannte Funktion zur Hilfe. Da sehen wir nähmlich das wir für verschiedene Argumente unterschiedliche Werte erhalten. In der Informatik sprechen wir bei diesem Wert vom **Rückgabewert** oder im englischen wäre dies der **return value**. Versuchen wir doch gleich mal eine solche Funktion zu schreiben.\n",
    "\n",
    "**Aufgabe:**\n",
    "> In der nächsten Zelle finden Sie Code der eine Funktion definiert. Nähmlich die Funktion\n",
    "> $$f: x \\rightarrow y = x + 2$$\n",
    "> Und weiteren Code, der die Funktion aufruft.\n",
    ">\n",
    "> Spielen Sie ein wenig mit diesem Code, bis Sie verstehen was hier genau passiert."
   ]
  },
  {
   "cell_type": "code",
   "execution_count": null,
   "metadata": {},
   "outputs": [],
   "source": [
    "def f(x):\n",
    "    result = x + 2\n",
    "    return result\n",
    "\n",
    "\n",
    "y = f(2)\n",
    "print(y)"
   ]
  },
  {
   "cell_type": "markdown",
   "metadata": {},
   "source": [
    "## Return\n",
    "\n",
    "In der Zelle oben, sehen Sie sehr viel. Wir konzentrieren uns zuerst mal auf das Schlüsselwort **return**, denn genau dass is im Moment gerade unser Thema, also der **Rückgabewert** der Funktion. Das ganze schient hier aber noch ein wenig magisch zu sein, deshalb schlüsseln wir diese Zelle mal zusammen auf und gehen sie Stück für Stück durch.\n",
    "\n",
    "Wir starten mal ganz oben in der Zelle und sehen dass dort eine Funktion definiert wird. Wir können aus der Zeile 1 auch noch andere Informationen lesen, nähmlich den Namen der Funktion `f` und das die Funktion das Argument `x` entgegen nimmt. Was die Funktion genau macht interessiert uns zu dem Zeitpunkt noch nicht, das einzige was wir noch wissen müssen, ist ob sie einen Rückgabewert hat. Das können wir ganz einfach ablesen, denn wir sehen jetzt dass die nächsten beiden Zeilen eingerückt sind. In dieser Einrückung suchen wir einfach nach den Schlüsselwort **return**. Haben wir das gefunden, wissen wir das die Funktion etwas zurück gibt, was dass genau ist, interessiert und noch nicht so.\n",
    "\n",
    "Wir verlassen dann die Einrückung und gehen weiter zur Zeile 6. Da sehen wir das unsere Funktion `f` mit dem Wert `2` aufgerufen wird, und der Rückgabewert von `f` wird der Variable `y` zugewiesen.\n",
    "\n",
    "In der letzten Zeile wird dann die Funktion `print` aufgerufen, welche den Wert der Variable `y` zurück gibt.\n",
    "\n",
    "## Rückgabewerte und Funktionen sind einfach\n",
    "\n",
    "Sie sehen also das Funktionen sehr einfach zu beschreiben sind, und auch deren Rückgabewerte, funktionieren genau so wie erwartet. Sie sehen nun auch das es Sinn ergibt hier mit Einrückungen zu arbeiten, denn so können wir gerade sehen was zu der Funktion gehört und was nicht."
   ]
  },
  {
   "cell_type": "markdown",
   "metadata": {},
   "source": [
    "## Nicht nur Zeichenketten\n",
    "\n",
    "Vielleicht haben Sie es bemerkt, aber vlt haben Sie es auch einfach überlesen, weil es so natürlich scheint, aber in der Funktion `f` haben wir mit dem `+`-Zeichen nicht 2 Zeichenketten verknüpft, sondern ganz normale Addition gemacht. Sie können natürlich alle normalen Mathematikoperationen verwenden, so wie Sie das auch erwarten würden. Interessant ist aber dass das Zeichen `+` sich anders verhält, jenachdem wie es gerade verwendet wurde. Dem möchten wir nun nachgehen und verstehen was hier genau passiert.\n",
    "\n",
    "**Aufgabe:**\n",
    "> In der nächsten Zelle finden Sie Code der einen Fehler ausgibt wenn Sie den ausführen. Lesen Sie die Fehlermeldung ganz genau durch, und beschreiben Sie was der Fehler ist. Schreiben Sie ausserdem auf was in der Zelle funktioniert und weshalb. "
   ]
  },
  {
   "cell_type": "code",
   "execution_count": null,
   "metadata": {},
   "outputs": [],
   "source": [
    "num = 2 + 2\n",
    "greeting = 'Hello ' + 'Cedric'\n",
    "test = 'Hallo' + 2"
   ]
  },
  {
   "cell_type": "markdown",
   "metadata": {},
   "source": [
    "## Verknüpfung von `str` und `int`\n",
    "\n",
    "In der dritten Zeile sagen wir dem Computer er soll eine Zeichenkette und eine Zahl miteinander verknüpfen. Nehmen Sie sich kurz Zeit und überlegen Sie sich wie Sie das machen würden. VErmutlich würden Sie einfach die Zahl an die Zeichenkette hängen und dass wäre dann ihr Resultat. Das scheint auch vernünftig zu sein dass so zu machen, aber Python weiss nicht dass das ihr gewünschtes Verhalten ist. Und das ergibt auch Sinn, denn mit der Mehrdeutigkeit der `+`-Zeichens, können dann auch unerwartete Fehler auftretten. In der Zelle oben ist es ziemlich klar was passieren soll, aber schauen Sie sich mal die nächste Zelle an."
   ]
  },
  {
   "cell_type": "code",
   "execution_count": null,
   "metadata": {},
   "outputs": [],
   "source": [
    "num1 = \"eins\"\n",
    "num2 = 2\n",
    "result = num1 + num2"
   ]
  },
  {
   "cell_type": "markdown",
   "metadata": {},
   "source": [
    "## Merkwürdiges Beispiel\n",
    "\n",
    "Sie haben absolut recht, das ist ein sehr merkwürdiges Beispiel das ich hier gemacht habe, aber es zeigt das Problem sehr schön auf. Betrachten Sie nur mal die letzte Zeile, dann lesen Sie dort das die Varibale `num1` und die Variable `num2` mit dem `+`-Zeichen verknüpft werden sollen. Übersetzen wir diese Aussage mal auf Deutsch, dann steht da: 2 Zahlen werden addiert. Das schliessen Sie weil die Variablen `num` heissen, also sollten es Zahlen sein. Das muss aber nicht so sein. Wie Sie bereits wissen, können Sie auch Zeichenketten in Variablen speichern.\n",
    "\n",
    "Nehmen Sie sich auch hier kurz die Zeit darüber nachzudenken, was Python hier gemacht hat mit der Fehlermeldung. Als Mensch sind wir davon ausgegangen dass hier eine Addition von 2 Zahlen stattfindet. Das ist aber nicht was im Code steht. Python schützt uns hier also davor einen dummen Fehler zu machen, nur weil die Variablen schlecht benannt sind. Wir können also Dankbar sein das hier ein Fehler geworfen wird!"
   ]
  },
  {
   "cell_type": "markdown",
   "metadata": {},
   "source": [
    "## Fehler beheben\n",
    "\n",
    "Das mag ja alles interessant sein, aber ich möchte nun diesen Fehler loswerden und einfach nur die Zahl an die Zeichenkette hängen!\n",
    "\n",
    "Kein Problem, das können wir ganz einfach erreichen. Was Sie eigentlich wollen ist ja 2 Zeichenketten aneinander hängen, und das geht ha ganz leicht mit dem `+`-Zeichen. Was wir also brauchen ist einen Funktion die einen Zahl nimmt und diese in eine Zeichenkette umwandelt. Zum Glück hat Python die Funktion `str()`.\n",
    "\n",
    "**Aufgabe:**\n",
    "> Verwenden Sie die Funktion `str()` um den Code in der folgenden Zelle zu korrigieren."
   ]
  },
  {
   "cell_type": "code",
   "execution_count": null,
   "metadata": {},
   "outputs": [],
   "source": [
    "text = \"Willkommen im Jahr \"\n",
    "year = 2021\n",
    "print(text + year)"
   ]
  },
  {
   "cell_type": "markdown",
   "metadata": {},
   "source": [
    "## Problem gelöst\n",
    "\n",
    "Nun können Sie das Problem dass Sie weiter oben bereits hatten lösen, und allen Code ausführbar machen. Sie müssen das natürlich nicht machen, denn die Fehlen sind ja da damit wir etwas lernen können.\n",
    "\n",
    "### Richtige Lösung\n",
    "\n",
    "Die Zelle oben können Sie auf mehrere Arten lösen, damit der Fehler weggeht. Ich gebe Ihnen hier die *richtige* Lösung. Richtig ist hier Subjektiv, jedoch kann begründet werden weshalb diese Lösung am meisten Sinn ergibt.\n",
    "\n",
    "```python\n",
    "text = \"Willkommen im Jahr \"\n",
    "year = 2021\n",
    "print(text + str(year))\n",
    "```\n",
    "\n",
    "Es ergibt Sinn die Methode `str()` hier anzuwenden, weil der Fehler im Code hier auftritt, und auch weil wir erst hier die Variable `year` in eine Zeichenkette umwandeln müssen."
   ]
  },
  {
   "cell_type": "markdown",
   "metadata": {},
   "source": [
    "## Text in Zahlen umwandeln\n",
    "\n",
    "Es wäre sicher auch praktisch wenn wir Text in Zahlen umwandeln können. Dafür hat Python auch eine sehr praktische Funktion, nähmlich die Funktion `int()`. Diese Funktion nimmt eine Zeichenkette als Argument, und wenn diese in eine Zahl umgewandelt werden kann, gibt sie eine Zahl zurück. Das ist extrem praktisch für uns wenn wir eine Zahl vom Benutzer einlesen lassen möchten.\n",
    "\n",
    "**Aufgabe:**\n",
    "> Führen Sie die folgende Zelle aus, und beschreiben Sie was genau in jeder Zeile passiert."
   ]
  },
  {
   "cell_type": "code",
   "execution_count": null,
   "metadata": {},
   "outputs": [],
   "source": [
    "number_text = input('Geben Sie eine Zahl ein: ')\n",
    "number = int(number_text)\n",
    "number = number + 5\n",
    "print('Die Zahl die Sie einegeben haben, ist um 5 kleiner als: ' + str(number))"
   ]
  },
  {
   "cell_type": "markdown",
   "metadata": {},
   "source": [
    "## Lernkontrolle\n",
    "\n",
    "Um zu überprüfen ob Sie alles verstanden haben, lösen Sie die folgenden Aufgaben.\n",
    "\n",
    "**Aufgabe:**\n",
    "> Schreiben Sie ein Programm, welches Sie mit Ihrem Namen im neuen Jahr willkommen heisst. Die Ausgabe sollte in etwa so aussehen: `Hallo Name! Das Jahr 2020 ist zu Ende, Willkommen im Jahr 2021.`.\n",
    ">\n",
    "> Der Name soll vom Benutzer eingegeben werden.\n",
    ">\n",
    "> `2020` wird der Variable `year` zugewiesen, und `2021` wird aus `year` berechnet. "
   ]
  },
  {
   "cell_type": "code",
   "execution_count": null,
   "metadata": {},
   "outputs": [],
   "source": []
  },
  {
   "cell_type": "markdown",
   "metadata": {},
   "source": [
    "**Aufgabe:**\n",
    "> Schreiben Sie eine Funktion `g` die `x` als Argument nimmt, und $x^2$ zurückgibt.\n",
    ">\n",
    "> Das Programm soll eine Zahl vom Benutzer lesen, und diese in die Funktion geben und dannach das Resultat ausgeben."
   ]
  },
  {
   "cell_type": "markdown",
   "metadata": {},
   "source": [
    "## Bonus\n",
    "\n",
    "Diese Aufgaben sind für die schnelleren und müssen nicht unbedingt gelöst werden.\n",
    "\n",
    "**Aufgabe:**\n",
    "> Schreiben Sie ein Programm, das Ihren Namen und Ihr Geburtsjahr als Benutzereingabe einliest, und Ihnen dann sagt, wie alt Sie in diesem Jahr werden."
   ]
  }
 ],
 "metadata": {
  "kernelspec": {
   "display_name": "Python 3",
   "language": "python",
   "name": "python3"
  },
  "language_info": {
   "codemirror_mode": {
    "name": "ipython",
    "version": 3
   },
   "file_extension": ".py",
   "mimetype": "text/x-python",
   "name": "python",
   "nbconvert_exporter": "python",
   "pygments_lexer": "ipython3",
   "version": "3.8.6"
  }
 },
 "nbformat": 4,
 "nbformat_minor": 4
}
