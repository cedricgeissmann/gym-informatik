{
 "cells": [
  {
   "cell_type": "markdown",
   "id": "latin-government",
   "metadata": {},
   "source": [
    "# Neuronale Netze\n",
    "\n",
    "In diesem Kapitel schauen wir uns *Neuronale Netze* an. Diese sind in der *KI* weit verbreitet und haben eine breite Anwendung in allen möglichen Systemen.\n",
    "\n",
    "*Neuronale Netze* können auch wie *Entscheidungsbäume* zur Klassifizierung verwendet werden. Ein sehr beliebtes Beispiel ist die Erkennung von handschriftlichen Ziffern. Bis wir soweit sind, müssen zuerst noch einige Grundlagen gelegt werden. Ganz am Ende werden wir ein *Neuronales Netz* trainieren, welches von Hand geschriebene Ziffern erkennen kann."
   ]
  },
  {
   "cell_type": "markdown",
   "id": "aging-beaver",
   "metadata": {},
   "source": [
    "## Das Perceptron\n",
    "\n",
    "*Neuronale Netze* sind vom biologischen Prinzip des Gehirns inspiriert. Ein Gehirn besteht jeweils aus vielen **Neuronen** welche untereinander Verknüpft sind.\n",
    "\n",
    "Ein einzellnes solches **Neuron** kann bereits für die *KI* verwendet werden, dabei spricht man dann von einem **Perceptron**.\n",
    "\n",
    "![](https://external-content.duckduckgo.com/iu/?u=https%3A%2F%2Fmiro.medium.com%2Fmax%2F1200%2F1*7pwA1DjBw6JDkwZQecUNiw.png&f=1&nofb=1)\n",
    "\n",
    "Ein **Perceptron** besteht aus mehreren Elementen.\n",
    "\n",
    "- **Inputs**: Das sind die Signale die bei dem **Percepton** an den verschiedenen Stellen ankommen. Dies ist den biologischen Dentriten nachempfunden.\n",
    "- **Gewichte**: Jeder **Input** hat ein **Gewicht**. Das soll verdeutlichen wie stark ein **Input** mit dem **Perceptron** verbunden ist.\n",
    "- **Körper**: Dieser ist im Bild mit $y$ bezeichnet. Im Körper werden alle **Inputs** aufsummiert, und dann noch durch eine **Aktivierungsfunktion** geschickt.\n",
    "- **Aktivierungsfunktion**: Das ist eine Funktion die entscheidet ob das **Perceptron** ein starkes oder ein schwaches Signal weiter gibt.\n",
    "- **Output**: Das Signal welches von einem **Perceptron** weitergegeben wird."
   ]
  },
  {
   "cell_type": "markdown",
   "id": "sensitive-composer",
   "metadata": {},
   "source": [
    "## Gewichte\n",
    "\n",
    "Das einzige was wir an dem System kontollieren können, sind die **Gewichte**. Über die Anpassung der Gewichte, können wir den **Output** steuern.\n",
    "\n",
    "**Aufgabe:**\n",
    "> Sie finden hier einen kleinen Datensatz mit 4 Einträgen. Die **Inputs** sind nummeriert, und das **Label** bestimmt was heraus kommen soll.\n",
    ">\n",
    "> Zeichnen Sie auf Papier ein Perceptron auf, das für diesen Datensatz verwendet werden kann.\n",
    ">\n",
    "> Versuchen Sie durch ausprobieren, die Gewichte so hinzubekommen, dass der **Output** den **Labels** entspricht. \n",
    "\n",
    "|Input 1|Input 2|Label|\n",
    "|---|---|---|\n",
    "|1|0|0|\n",
    "|0|0|0|\n",
    "|0|1|0|\n",
    "|1|1|1|"
   ]
  },
  {
   "cell_type": "markdown",
   "id": "appreciated-disco",
   "metadata": {},
   "source": [
    "## Aktivierungsfunktion\n",
    "\n",
    "Sie merken recht schnell dass Sie nur durch das aufsummieren der **Inputs** nicht die gewünschten **Labels** erhalten können. DAfür ist die **Aktivierungsfunktion** gut. Hier können verschiedene Funktionen verwendet werden. Wir werden hier mal von einer einfachen Rundungsfunktion ausgehen. Also wenn die Summe grösser als 0.5 ist, runden wir auf 1, ansonsten runden wir ab.\n",
    "\n",
    "**Wichtig:**\n",
    "> Wir merken uns das wir nicht unbedingt die genauen **Labels** vorhersagen müssen. Die Resultate können später immer noch interpretiert werden, also wir können auch erst bei der Evaluation der Daten die Rundung vornehmen."
   ]
  },
  {
   "cell_type": "markdown",
   "id": "former-fabric",
   "metadata": {},
   "source": [
    "## Computer zur Hilfe\n",
    "\n",
    "In der nächsten Zelle finden Sie Code der Ihnen den Datensatz von oben erzeugt. Wenn Sie die Zelle ausführen, finden Sie 2 Schieberegler darunter. Diese repräsentieren die **Gewichte** die Sie für das **Perceptron** bestimmen können.\n",
    "\n",
    "**Aufgabe:**\n",
    "> Führen Sie die Zelle aus, und stellen Sie die von Ihnen gefundenen **Gewichte** ein."
   ]
  },
  {
   "cell_type": "code",
   "execution_count": 9,
   "id": "centered-festival",
   "metadata": {
    "scrolled": false
   },
   "outputs": [
    {
     "data": {
      "application/vnd.jupyter.widget-view+json": {
       "model_id": "6caae6b79235465a971b6f1041b8dc81",
       "version_major": 2,
       "version_minor": 0
      },
      "text/plain": [
       "VBox(children=(VBox(children=(HTML(value='<h2>Gewichte</h2>'), FloatSlider(value=0.0, description='Gewicht[0]:…"
      ]
     },
     "metadata": {},
     "output_type": "display_data"
    }
   ],
   "source": [
    "import ipywidgets as wdg\n",
    "from math import exp\n",
    "import numpy as np\n",
    "from sklearn.datasets import make_classification\n",
    "import pandas as pd\n",
    "import seaborn as sns\n",
    "\n",
    "def activation_function(x):\n",
    "    return x\n",
    "    #return 1 / (1 + exp(-x))\n",
    "\n",
    "def calculate_output():\n",
    "    weights = np.array([v.value for v in s[1:]])\n",
    "    res = X.dot(weights)\n",
    "    activation = np.vectorize(activation_function)\n",
    "    res = activation(res)\n",
    "    return res\n",
    "\n",
    "def error(X, y):\n",
    "    res = calculate_output()\n",
    "    res = y - res\n",
    "    res = [float(x)**2 for x in res]\n",
    "    return sum(res)/len(res)\n",
    "\n",
    "    \n",
    "def update_table(args):\n",
    "    with o:\n",
    "        o.clear_output()\n",
    "        pd_X = pd.DataFrame(X, columns=[f'Input[{i}]' for i in range(X.shape[1])])\n",
    "        pd_y = pd.DataFrame(y, columns=['Labels'])\n",
    "        res = calculate_output()\n",
    "        res = pd.DataFrame(res, columns=['Output'])\n",
    "\n",
    "        pd_all = pd.concat([pd_X, pd_y, res], axis=1)\n",
    "        print(pd_all)\n",
    "        err_val = error(X, y)\n",
    "        print(f\"Error: {err_val:.2f}\")\n",
    "    \n",
    "X = np.array([[1, 0],\n",
    "              [0, 1],\n",
    "              [0, 0],\n",
    "              [1, 1]])\n",
    "y = np.array([0,\n",
    "              0,\n",
    "              0,\n",
    "              1])\n",
    "\n",
    "s = [wdg.HTML(\"<h2>Gewichte</h2>\")]\n",
    "for el in range(X.shape[1]):\n",
    "    slider = wdg.FloatSlider(min=-5.0, max=5.0,\n",
    "                             description=f\"Gewicht[{el}]:\")\n",
    "    slider.observe(update_table, names='value')\n",
    "    s.append(slider)\n",
    "\n",
    "\n",
    "o = wdg.Output()\n",
    "\n",
    "vbox = wdg.VBox(s)\n",
    "layout = wdg.VBox([vbox, o])\n",
    "display(layout)\n",
    "update_table(None)"
   ]
  },
  {
   "cell_type": "markdown",
   "id": "exempt-earth",
   "metadata": {},
   "source": [
    "## Was ist hier passiert\n",
    "\n",
    "Sie sehen dass wenn Sie an den Schiebereglern was verändern, erscheint eine Tabelle mit dem Datensatz von oben. Die Tabelle gibt auch gerade den **Output** für den jeweiligen Datenpunkt aus. So können Sie also in diesem recht kleinen Datensatz relativ schnell sehen ob Ihre **Gewichte** gut sind, oder in welche Richtug Sie diese anpassen müssen.\n",
    "\n",
    "## Error\n",
    "\n",
    "Keine Sorge, Sie haben keinen Fehler gemacht. Der **Error** von dem hier die Rede ist, bezieht sich auf den Fehler der Vorhersage im Vergleich zum Datensatz. Sie sehen dies auch unter der Tabelle angezeigt.\n",
    "\n",
    "Wenn Sie an den **Gewichten** etwas verändern, sehen Sie dass sich auch der Fehler mit verändert. Wenn der Fehler möglichst klein ist, haben Sie die **Gewichte** gut gewählt. Wenn der Fehler gross ist, müssen die **Gewichte** noch angepasst werden.\n",
    "\n",
    "**Aufgabe:**\n",
    "> Spielen Sie mit den Schiebereglern, und beschrieben Sie wie sich der Fehler verändert. Tauschen Sie Ihre Erkentnis mit Ihrem Sitznachbarn aus.\n",
    "\n",
    "**Zusatz:**\n",
    "> Wir verwenden hier die Methode *Mean Squarred Error*. Schuen Sie nach was genau man darunter versteht, und diskutieren Sie Ihre Erkentnis mit Ihrem Sitznachbarn."
   ]
  },
  {
   "cell_type": "markdown",
   "id": "spatial-scottish",
   "metadata": {},
   "source": [
    "## Grössere Datensätze\n",
    "\n",
    "In der nächsten Zelle finden Sie Code der Ihnen einen grösseren Datensatz erzeugt, so wie bereits auf dem letzten Arbeitsblatt.\n",
    "\n",
    "**Aufgabe**:\n",
    "> Führen Sie die Zelle aus und ändern Sie die Gewichte.\n",
    "> \n",
    "> - Was passiert mit dem Fehler?\n",
    "> - Welches **Gewicht** hat am meisten Einfluss auf den Fehler?\n",
    "> - Gibt es **Gewichte** die keinen Einfluss auf den Fehler haben?\n",
    "> - Was sehen Sie im Datensatz?\n",
    "> - Können Sie die **Gewichte** so einstellen das der Fehler möglichst klein ist?\n",
    ">\n",
    "> Tauschen Sie Ihre Erkentnis mit Ihrem Sitznachbarn aus."
   ]
  },
  {
   "cell_type": "code",
   "execution_count": 6,
   "id": "empirical-translation",
   "metadata": {},
   "outputs": [
    {
     "data": {
      "application/vnd.jupyter.widget-view+json": {
       "model_id": "ba5d6bb3ca454772a9cb5d1cb9fc5312",
       "version_major": 2,
       "version_minor": 0
      },
      "text/plain": [
       "VBox(children=(VBox(children=(HTML(value='<h2>Gewichte</h2>'), FloatSlider(value=0.0, description='Gewicht[0]:…"
      ]
     },
     "metadata": {},
     "output_type": "display_data"
    }
   ],
   "source": [
    "X, y = make_classification(n_samples=10, n_features=4, n_informative=4, n_redundant=0, n_repeated=0, class_sep=10, n_clusters_per_class=1, shift=10, scale=0.05)\n",
    "s = [wdg.HTML(\"<h2>Gewichte</h2>\")]\n",
    "for el in range(X.shape[1]):\n",
    "    slider = wdg.FloatSlider(min=-5.0, max=5.0,\n",
    "                             description=f\"Gewicht[{el}]:\")\n",
    "    slider.observe(update_table, names='value')\n",
    "    s.append(slider)\n",
    "\n",
    "\n",
    "o = wdg.Output()\n",
    "\n",
    "vbox = wdg.VBox(s)\n",
    "layout = wdg.VBox([vbox, o])\n",
    "display(layout)\n",
    "update_table(None)"
   ]
  },
  {
   "cell_type": "markdown",
   "id": "piano-foundation",
   "metadata": {},
   "source": [
    "## Analyse des Datensatzes\n",
    "\n",
    "Da der Datensatz zufällig erzeugt wird, können Sie mehr oder weniger Glück damit haben. Da der Datensatz noch relativ klein ist, lohnt es sich da genauer hinein zu schauen. Wir machen das auch wieder mit einem **Pair-Plot** den wir bereits vom letzten Arbeitsblatt kennen.\n",
    "\n",
    "**Aufgabe:**\n",
    "> In der nächsten Zelle finden Sie Code der Ihnen einen *Pair-Plot* von Ihrem Datensatz erzeugt. Führen Sie diese Zelle aus.\n",
    ">\n",
    "> Was fällt Ihnen auf wenn Sie den **Pair-Plot** betrachten und mit den Erkentnissen der letzten Aufgabe vergleichen?\n",
    ">\n",
    "> Suchen Sie sich das **Gewicht** aus das zu einem **Input** gehört bei dem die beiden Kurven in der Diagonale keine Überschneidungen haben. Was fällt Ihnen auf wenn Sie dieses Gewicht verändern?\n",
    ">\n",
    "> Reflektieren Sie die hier gewonnene Erkenntnis und vergleichen Sie diese mit der Erkenntnis zu **Pair-Plots** vom letzten Aufgabenblatt."
   ]
  },
  {
   "cell_type": "code",
   "execution_count": 4,
   "id": "affiliated-appointment",
   "metadata": {
    "lines_to_next_cell": 0,
    "scrolled": false
   },
   "outputs": [
    {
     "data": {
      "text/plain": [
       "<seaborn.axisgrid.PairGrid at 0x7fcc48591820>"
      ]
     },
     "execution_count": 4,
     "metadata": {},
     "output_type": "execute_result"
    },
    {
     "data": {
      "image/png": "[encoded data removed]",
      "text/plain": [
       "<Figure size 762.375x720 with 20 Axes>"
      ]
     },
     "metadata": {
      "needs_background": "light"
     },
     "output_type": "display_data"
    }
   ],
   "source": [
    "X_tmp = pd.DataFrame(X, columns=[f'Input[{i}]' for i in range(X.shape[1])])\n",
    "y_tmp = pd.DataFrame(y, columns=['label'])\n",
    "tmp = pd.concat([X_tmp, y_tmp], axis=1)\n",
    "sns.pairplot(tmp, x_vars=[f'Input[{i}]' for i in range(X.shape[1])], y_vars=[f'Input[{i}]' for i in range(X.shape[1])], hue='label')"
   ]
  },
  {
   "cell_type": "markdown",
   "id": "framed-hurricane",
   "metadata": {},
   "source": [
    "## Neuronale Netze\n",
    "\n",
    "Mit einem einzelnen **Perceptron**, kann man bereits viel machen. Wie schon bei den **Entscheidungsbäumen**, gibt es auch hier eine Weiterenwicklung der Methode. Man kann nun verschiedene **Perceptrons** aneinander hängen, und damit ein **Neuronales Netz** erstellen. Diese **Neuronalen Netze** werden normalerweise in Schichten (sogennanten **Layers**) unterteilt."
   ]
  },
  {
   "cell_type": "markdown",
   "id": "generic-wichita",
   "metadata": {},
   "source": [
    "## Ziffern vorhersagen\n",
    "\n",
    "![](https://external-content.duckduckgo.com/iu/?u=https%3A%2F%2Fraw.githubusercontent.com%2Fyashk2810%2Fyashk2810.github.io%2Fmaster%2Fimages%2Fmnist.png&f=1&nofb=1)\n",
    "\n",
    "Nun möchten wir aber gerne Ziffern vorhersagen können, und diese sind ja nicht in dem Format in dem die Datensätze von oben sind.\n",
    "\n",
    "Das ist in der Tat ein wichtiger Punkt und diesen müssen wir zuerst klären. Wenn wir eine Ziffer vorhersagen möchten, dann müssen wir zuerst das Bild einer Ziffer haben. Wir verwenden dann verschiedene Techniken um das Bild auf eine Standardgrösse zu bekommen ($28 \\times 28$ Pixel) und betrachten nur die Graustufen davon. Dann hat jeder Pixel einen Wert zwischen 0 und 1 und wenn wir die Pixel der Reihe nach aufreihen, haben wir einen Datensatz mit 784 **Inputs**.\n",
    "\n",
    "![](https://external-content.duckduckgo.com/iu/?u=https%3A%2F%2Fi2.wp.com%2Fwand-research.com%2Fwp-content%2Fuploads%2F2018%2F02%2Funderstanding-cnn.gif%3Fw%3D720%26ssl%3D1&f=1&nofb=1)\n",
    "\n",
    "Die Graphik hier veranschaulicht sehr gut was bei einem Neuronalen Netzwerk abläuft. Nachdem das Bild in das passende Input-Format gebracht wurde, kann es durch das Netzwerk gefüttert werden. Dabei nach jeder Auswertung von einem **Preceptron** ein Signal weiter an das nächste **Perceptron** geschickt. Damit können sehr komplexe Funktionen nachgebaut werden. Wenn man dem Neuronalen Netz sehr viele Schichten und Neuronen pro Schicht gibt, könnne damit beliebig komplexe Funktionen approximiert werden."
   ]
  },
  {
   "cell_type": "markdown",
   "id": "hungarian-generation",
   "metadata": {},
   "source": [
    "## Training sehr aufwendig\n",
    "\n",
    "Wie Sie an der Graphik oben sehen können, ist das TRaining sehr aufwendig, denn Sie müssen für jede der Kanten den richtigen Wert bestimmen, und es gibt sehr sehr viele Kanten in einem Neuronalen Netz. Zum Glück gibt es Trainingsmethoden die relativ gut funktionieren, und wenn man so ein Modell mal trainiert hat, kann man es auch speichern und wieder verwenden.\n",
    "\n",
    "**Aufgabe:**\n",
    "> In der nächsten Zelle finden Sie Code der Ihnen ein Modell importiert das bereits trainiert wurde. Das Modell kann Ziffern mehr oder weniger gut erkennen.\n",
    ">\n",
    "> Führen Sie die nächste Zelle aus, und prüfen Sie welche Ziffern das Modell wie gut erkennen kann."
   ]
  },
  {
   "cell_type": "code",
   "execution_count": null,
   "id": "greek-entity",
   "metadata": {},
   "outputs": [],
   "source": [
    "from ipycanvas import Canvas\n",
    "from ipywidgets import Layout\n",
    "import ipywidgets as wdg\n",
    "import tensorflow as tf\n",
    "import numpy as np\n",
    "\n",
    "\n",
    "model = tf.keras.models.load_model('digits.model')\n",
    "\n",
    "SCALING = 4\n",
    "\n",
    "class Pen():\n",
    "    is_down = False\n",
    "    \n",
    "    def put_down(self, x, y):\n",
    "        self.is_down = True\n",
    "        \n",
    "    def take_up(self, x, y):\n",
    "        self.is_down = False\n",
    "\n",
    "def draw_pixel(x, y):\n",
    "    if pen.is_down:\n",
    "        canvas.fill_rect(x, y, 6, 6)\n",
    "    \n",
    "def predict_from_image(args):\n",
    "    canvas.sync_image_data\n",
    "    arr = canvas.get_image_data()\n",
    "    small = arr[::SCALING, ::SCALING]\n",
    "    small = small[:,:,3]\n",
    "    small = small.reshape((1, 784))\n",
    "    small = small / 255\n",
    "    predict = model.predict(small)[0]\n",
    "    tmp = np.where(predict == max(predict))[0]\n",
    "    out.value = str(tmp[0])\n",
    "    \n",
    "def clear_canvas(args):\n",
    "    canvas.clear()\n",
    "\n",
    "        \n",
    "pen = Pen()\n",
    "canvas = Canvas(height=28*SCALING, width=28*SCALING, sync_image_data=True)\n",
    "canvas.on_mouse_down(pen.put_down)\n",
    "canvas.on_mouse_up(pen.take_up)\n",
    "canvas.on_mouse_move(draw_pixel)\n",
    "#canvas.observe(get_array, 'image_data')\n",
    "canvas.layout = Layout(border='solid')\n",
    "\n",
    "btn_predict = wdg.Button(description=\"Predict\")\n",
    "btn_predict.on_click(predict_from_image)\n",
    "btn_clear = wdg.Button(description=\"Clear\")\n",
    "btn_clear.on_click(clear_canvas)\n",
    "out = wdg.HTML()\n",
    "\n",
    "wdg.HBox([canvas, btn_predict, btn_clear, out])"
   ]
  },
  {
   "cell_type": "markdown",
   "id": "visible-disposition",
   "metadata": {},
   "source": [
    "## Übertrainiert\n",
    "\n",
    "Ein häufiges Problem das man bei **maschinellem Lernen** antrifft, ist das Problem von **Overfitting**.\n",
    "\n",
    "**Aufgabe:**\n",
    "> Führen Sie eine Internetrecherche zu den Begriffen **Overfitting** und **Generalization** durch. Besprechen Sie mit Ihrem Sitznachbarn was dies mit **maschinellem Lernen** zu tun hat, und wieso dies ein Problem sein könnte."
   ]
  }
 ],
 "metadata": {
  "kernelspec": {
   "display_name": "Python 3",
   "language": "python",
   "name": "python3"
  },
  "language_info": {
   "codemirror_mode": {
    "name": "ipython",
    "version": 3
   },
   "file_extension": ".py",
   "mimetype": "text/x-python",
   "name": "python",
   "nbconvert_exporter": "python",
   "pygments_lexer": "ipython3",
   "version": "3.8.6"
  }
 },
 "nbformat": 4,
 "nbformat_minor": 5
}
