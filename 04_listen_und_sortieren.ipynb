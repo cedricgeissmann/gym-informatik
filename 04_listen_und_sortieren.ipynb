{
 "cells": [
  {
   "cell_type": "markdown",
   "id": "beneficial-nursing",
   "metadata": {},
   "source": [
    "# Listen und Sortieren\n",
    "\n",
    "Beim Programmieren werden extrem oft Listen verwendet. Ein sehr häufiges Beispiel für Listen, sind Zeichenketten. Mit denen haben wir bereits gearbeitet.\n",
    "\n",
    "Von einem technischen Standpunkt aus gesehen, ist eine Zeichenkette einfach eine Liste die aus Buchstaben (oder Zeichen) besteht. Daher sollte der Name Zeichenkette nun auch Sinn ergeben.\n",
    "\n",
    "**Aufgabe:**\n",
    "> Führen Sie die nächste Zelle aus, und besprechen Sie das Resultat mit Ihrem Sitznachbarn."
   ]
  },
  {
   "cell_type": "code",
   "execution_count": null,
   "id": "constant-contest",
   "metadata": {},
   "outputs": [],
   "source": [
    "hello_str = 'Hello World!'\n",
    "print(len(hello_str))"
   ]
  },
  {
   "cell_type": "markdown",
   "id": "artificial-savage",
   "metadata": {},
   "source": [
    "## Länge von Listen\n",
    "\n",
    "Wie Sie in der Zelle oben gesehen haben, gibt Ihnen die `len()`-Funktion, die Länge einer Liste zurück. Oder wenn Sie es anders formulieren möchten: Die `len()`-Funktion gibt Ihnen die Anzahl Elemente einer Liste zurück. Bei einer Zeichenkette, sind dies genau die Anzahl Zeichen.\n",
    "\n",
    "## Auf bestimmte Elemente zugreifen\n",
    "\n",
    "Listen sind immer abgezählt und alle Elemente darin sind durch nummeriert. Das heisst Sie können auf einzelne Elemente der Liste zugreifen.\n",
    "\n",
    "**WICHTIG!!!**\n",
    "> Die nummerierung beginnt mit **0**. Das erste Element einer Liste ist also das Element **0**.\n",
    ">\n",
    "> Daraus folgt dass das letzte Element der Liste, die Anzahl Elemente in der Liste -1 ist.\n",
    "\n",
    "Möchten wir nun auf ein bestimmtes Element der Liste zugreifen, verwenden wir diese Klammern `[]`.\n",
    "\n",
    "**Aufgabe:**\n",
    "> Der Code in der nächsten Zelle, greift auf das erste Element der Liste zu, und gibt es aus. Ergänzen Sie den Code so, dass auch das letzte Element der Liste ausgegeben wird."
   ]
  },
  {
   "cell_type": "code",
   "execution_count": null,
   "id": "orange-harbor",
   "metadata": {},
   "outputs": [],
   "source": [
    "hello_str = 'Hello World!'\n",
    "first_element = hello_str[0]\n",
    "print(first_element)"
   ]
  },
  {
   "cell_type": "markdown",
   "id": "bottom-mining",
   "metadata": {},
   "source": [
    "## Das letzte Element\n",
    "\n",
    "Im Gegensatz zu anderen Programmiersprachen, macht Python einige Dinge viel einfacher und lesbarer für uns. Wenn wir zum Beispiel auf das letzte Element zugreifen möchten, können wir dies direkt mit `[-1]` machen.\n",
    "\n",
    "Die Idee dahinter ist die folgende: Wenn wir negative Zahlen verwenden, möchten wir vom Ende der Liste zählen.\n",
    "\n",
    "**Aufgabe:**\n",
    "> Schreiben Sie Code der die Zeichenkette `Hello World!`, Zeichen für Zeichen schreibt.\n",
    ">\n",
    "> *Tipp:* Verwenden Sie Schleifen."
   ]
  },
  {
   "cell_type": "code",
   "execution_count": null,
   "id": "disabled-worship",
   "metadata": {},
   "outputs": [],
   "source": [
    "hello_str = 'Hello World!'\n",
    "for i in range(len(hello_str)):\n",
    "    print(hello_str[i], end='')\n",
    "print('test')"
   ]
  },
  {
   "cell_type": "markdown",
   "id": "theoretical-partner",
   "metadata": {},
   "source": [
    "## So unnötig!!!\n",
    "\n",
    "Sie fragen sich bestimmt weshalb wir diese sinnlose Aufgabe machen. Die haben ja bereits im ersten Kapitel ganze Zeichenketten komplett heraus geschrieben, und da war das ganze noch auf einer Zeile und leserlich...\n",
    "\n",
    "Wenn Sie das ganze mit einer `for`-Schleife geschrieben haben, oder es mit der Musterlösung vergleichen, sehen Sie das wir das gemacht haben um Schlaufen zu üben.\n",
    "\n",
    "**Musterlösung:**\n",
    "```python\n",
    "hello_str = 'Hello World!'\n",
    "for i in range(len(hello_str)):\n",
    "    print(hello_str[i])\n",
    "```\n",
    "\n",
    "Bis jetzt haben Sie sich sicher immer gefragt was dieses `i` in der Zeile `for i in range(10):` macht. Das `i` zählt von 0 bis 9 alle ganzen Zahlen durch, und kann innerhalb der Schleife direkt verwendet werden. Das scheint doch recht praktisch zu sein, aber wofür nur...\n",
    "\n",
    "**Aufgabe:**\n",
    "> Schreiben Sie Code der Ihnen die Zeichenkette `Hello World!` rückwärts ausgibt."
   ]
  },
  {
   "cell_type": "code",
   "execution_count": null,
   "id": "integral-ethics",
   "metadata": {},
   "outputs": [],
   "source": []
  },
  {
   "cell_type": "markdown",
   "id": "everyday-fourth",
   "metadata": {},
   "source": [
    "## An Listen anhängen\n",
    "\n",
    "Sie können Elemente auch an Listen anhängen. Auch das haben Sie bereits gemacht. Wenn Sie in Kapitel 1 den `+`-Operator verwendet haben um Zeichenketten zusammen zu hängen, haben Sie technisch gesehen, 2 Listen zusammen gehängt. Wir wollen aber nicht soweit vorgreifen und nur einzellne Elemente an eine Liste anhängen.\n",
    "\n",
    "Wenn Sie ein neues Element an eine Liste anhängen, entsteht eine neue Liste. Möchten wir mit der Liste mit dem angehängten Element weiter arbeiten, müssen wir diese speichern. Am besten überschreiben wir dann die alte Liste.\n",
    "\n",
    "**Aufgabe:**\n",
    "> Führen Sie die nächste Zelle aus, und machen Sie sich klar das Sie alles darin verstanden haben."
   ]
  },
  {
   "cell_type": "code",
   "execution_count": null,
   "id": "private-mobility",
   "metadata": {},
   "outputs": [],
   "source": [
    "hello_str = 'Hello World!'\n",
    "print(hello_str)\n",
    "hello_str = hello_str + '!'\n",
    "print(hello_str)\n",
    "hello_str = hello_str + '!'\n",
    "print(hello_str)"
   ]
  },
  {
   "cell_type": "markdown",
   "id": "perfect-saturn",
   "metadata": {},
   "source": [
    "## Zeichenketten sind doof!\n",
    "\n",
    "Sie können Listen auch von allen anderen Dingen erstellen, wenn Sie Zeichenketten doof finden. Ob Sie Listen von Zahlen viel besser finden bleibt noch abzuwarten, aber wenigstens können wir diese sortieren!!!\n",
    "\n",
    "Zeichenketten sind ein Spezialfall von Listen. Normalerweise werden Listen anders erzeugt, nähmlich mit den `[]`-Klammern und dann werden alle Elemente aufgelistet. Hier ist ein Beispiel:\n",
    "\n",
    "```python\n",
    "example_list = [1, 3, 5, 2, 6, 4, 7]\n",
    "```\n",
    "\n",
    "Alles andere was sie vorhin über Listen gelernt haben, gilt sowohl für Listen wie auch für Zeichenketten.\n",
    "\n",
    "Weil Listen von Zahlen nicht so spannend sind, habe ich Ihnen eine Funktion implementiert, die Listen graphisch darstellt. In der nächsten Zelle finden Sie ein Beispiel dafür."
   ]
  },
  {
   "cell_type": "code",
   "execution_count": null,
   "id": "serial-closure",
   "metadata": {},
   "outputs": [],
   "source": [
    "from lib.mysort import *\n",
    "\n",
    "li = [20, 5, 1, 6, 3, 8, 2, 7, 4, 9]\n",
    "\n",
    "make_canvas()\n",
    "color('#98971a')\n",
    "display_list(li)"
   ]
  },
  {
   "cell_type": "markdown",
   "id": "natural-trance",
   "metadata": {},
   "source": [
    "## Ähnlich wie die Turtle\n",
    "\n",
    "Der Code funktioniert ähnlich wie bei der Turtle. Auch hier müssen Sie wieder etwas importieren.\n",
    "\n",
    "Wichtig hier sind die Funktionen `make_canvas()`, welche Ihnen die Zeichenfläche gibt, und die Funktion `display_list()`, welche die graphische Repräsentation der Liste anzeigt. Die Elemente werden automatisch skaliert, Sie müssen also an fast nichts denken.\n",
    "\n",
    "Wenn Ihnen die Farbe nicht gefällt, können Sie diese mit `color()` ändern."
   ]
  },
  {
   "cell_type": "markdown",
   "id": "proper-response",
   "metadata": {},
   "source": [
    "## Element in der Liste ersetzen\n",
    "\n",
    "Sie können auch Elemente in einer Liste ersetzen. Dazu verwenden Sie ganz einfach die `[]`-Klammern. Möchten Sie das Element an der Stelle 4 ersetzen, können Sie das mit dem folgenden Code machen:\n",
    "\n",
    "```python\n",
    "my_list = [1, 2, 3, 4, 6, 6, 7]\n",
    "my_list[4] = 5\n",
    "print(my_list)\n",
    "```\n",
    "\n",
    "**Aufgabe:**\n",
    "> In der nächsten Zelle finden Sie eine Liste mit Zahlen und Zeichenketten von Zahlen. Ersetzen Sie alle Zeichenketten mit den entsprechenden Zahlen."
   ]
  },
  {
   "cell_type": "code",
   "execution_count": null,
   "id": "indian-overhead",
   "metadata": {},
   "outputs": [],
   "source": [
    "bad_list = [0, 'eins', 2, 3, '4']"
   ]
  },
  {
   "cell_type": "markdown",
   "id": "blocked-width",
   "metadata": {},
   "source": [
    "**Aufgabe:**\n",
    "> Diese Aufgabe lösen wir zusammen!!! Melden Sie sich wenn Sie hier angelangt sind. Wenn Sie schneller wie die anderen sind, können Sie die Aufgabe bereits versuchen.\n",
    ">\n",
    "> Sie haben eine Liste mit verschiedenen Zahlen. Einige davon sind negativ. Ihr Chef hat leider nie gelernt wie man mit negativen Zahlen rechnet, also müssen jetzt alle Zahlen in der Liste auf 0 setzen, wenn sie negativ sind."
   ]
  },
  {
   "cell_type": "code",
   "execution_count": null,
   "id": "brilliant-remains",
   "metadata": {},
   "outputs": [],
   "source": [
    "neg_list = [-34, 45, -14, 9, -27, 51, 49, 4, -30, 27, 41, -12, 33, 49, 8, 33, 57, 19, 29, -7, -19, 44, 30, 56, 37, 40, -15, -29, -21, 28, -29, -17, 19, -33, 23, 0, 32, 24, 12, 6, 10, 30, -26, -7, 66, -35, 46, 32, 62, -6, 18, -25, 14, -22, 63, -36, 32, -19, 58, -10, -5, 65, 1, 23, -31, -14, 51, 60, 48, -31, -31, 40, 16, -23, 11, 68, -13, 12, 41, 69, 43, -16, 39, -13, 42, 14, -39, -8, 53, 20, -37, -22, 41, 36, 49, 35, 4, -11, -1, 56, 43, 65, -27, -6, -21, 65, 60, -35, 57, 17, -25, 40, -38, 14, 30, -33, -40, 57, 47, 58, 57, 7, 36, 62, 67, 60, -7, 4, 12, -38, 37, 11, 37, -17, 48, -10, 62, -15, 8, 4, -15, -23, 35, 23, 55, -31, 58, -17, -39, 45, 19, 36, -13, 52, 32, -35, 60, -2, 58, -40, -4, -5, 38, -27, -35, 12, 7, 43, -36, -14, 56, 55, 46, -27, 32, 18, -8, -17, -34, 23, 52, 27, -33, -35, -34, 11, 25, -8, 24, 24, 43, 29, -31, 65, 13, 43, -32, 57, 15, -26]\n",
    "print(neg_list)"
   ]
  },
  {
   "cell_type": "markdown",
   "id": "bibliographic-stocks",
   "metadata": {},
   "source": [
    "## Sortieren\n",
    "\n",
    "Wir möchten diese Liste nun sortieren. Dazu verwenden wir den sogenannten *BubbleSort*.\n",
    "\n",
    "*BubbleSort*:\n",
    "> Beim *BubbleSort* werden immer 2 Elemente die direkt nebeneinander sind verglichen. Sind diese beiden bereits richtig sortiert, geht der Algorithmus eins weiter, wenn nicht, werden die beiden vertauscht."
   ]
  },
  {
   "cell_type": "code",
   "execution_count": null,
   "id": "cultural-birth",
   "metadata": {},
   "outputs": [],
   "source": [
    "from lib.mysort import *\n",
    "\n",
    "make_canvas()\n",
    "bubble_sort_demo()"
   ]
  },
  {
   "cell_type": "markdown",
   "id": "convinced-version",
   "metadata": {},
   "source": [
    "## BubbleSort Demo\n",
    "\n",
    "Die Funktion `bubble_sort_demo()` gibt Ihnen eine visuelle Repräsentation von BubbleSort. Achten Sie hier vor allem auf die roten und blauen Elemente. In jedem Schritt wird das rote mit dem blauen verglichen. Wenn das blaue kleiner ist wie das rote, dann stimmt die Reihenfolge nicht, und die Elemente müssen vertauscht werden. Wenn die Elemente vertauscht wurden, beginnt das ganze wieder von vorne."
   ]
  },
  {
   "cell_type": "markdown",
   "id": "sealed-humidity",
   "metadata": {},
   "source": [
    "**Aufgabe:**\n",
    "> Implementieren Sie BubbleSort!"
   ]
  },
  {
   "cell_type": "code",
   "execution_count": null,
   "id": "authorized-thomas",
   "metadata": {},
   "outputs": [],
   "source": [
    "from lib.mysort import *\n",
    "\n",
    "make_canvas()\n",
    "li = get_random_list(10)\n",
    "display_list(li)\n",
    "\n",
    "#BubbleSort...\n"
   ]
  },
  {
   "cell_type": "markdown",
   "id": "unable-bruce",
   "metadata": {},
   "source": [
    "## Nur Zahlen sortieren ist aber auch langweilig\n",
    "\n",
    "Auch dieses Problem können wir ganz einfach beheben. In einem Computer sind alle Zeichen über Zahlen repräsentiert. Wie genau die definiert sind, wird im `ASCII`-Standart festgelegt. Das Zeichen `'a'` hat zum Beispiel den Wert `97` und `'b'` hat den Wert `98` etc. Das Zeichen `'A'` hat den Wert `65`.\n",
    "\n",
    "Man kann in Python den Wert eines Zeichens mit der Funktion `ord()` herausfinden. Ich hab für Sie bereits eine Funktion geschirben die Ihnen eine ganze Liste in die `ASCII`-Werte umwandelt. Mit der Funktion `convert_list_to_ascii()` können Sie auch Listen sortieren die nicht nur aus Zahlen bestehen.\n",
    "\n",
    "Python bietet Ihnen auch die praktische Funktion `list()` an. Mit der können Sie aus einer Zeichenkette eine Liste machen.\n",
    "\n",
    "**Aufgabe:**\n",
    "> In der nächsten Zelle finden Sie Code der Ihnen eine Liste von Zeichen gibt. Sortieren Sie diese Liste mit *BubbleSort*."
   ]
  },
  {
   "cell_type": "code",
   "execution_count": null,
   "id": "alone-personality",
   "metadata": {},
   "outputs": [],
   "source": [
    "li = list('qwertzuiopasdfghjklyxcvbnm')"
   ]
  },
  {
   "cell_type": "markdown",
   "id": "exterior-reflection",
   "metadata": {},
   "source": [
    "## Anagramm\n",
    "\n",
    "Ein Anagram ist ein Wort oder Satz, der aus den gleichen Buchstaben wie ein anderes Wort oder Satz gebaut ist.\n",
    "\n",
    "**Beispiel:**\n",
    "> Ampel $\\leftrightarrow$ Lampe\n",
    "\n",
    "**Aufgabe:**\n",
    "> Finden Sie eigene Beispiele für Anagramme und schreiben Sie eine Funktion `is_anagram(list1, list2)` die Ihnen sagt ob die beiden Listen ein Anagramm sind.\n",
    ">\n",
    "> *Tipp:* Bei Anagrammen wird nicht zwischen Gross- und Kleinschreibung unterschieden. Es hilft also wenn Sie alles in Kleinbuchstaben umwandeln."
   ]
  },
  {
   "cell_type": "code",
   "execution_count": null,
   "id": "pointed-coalition",
   "metadata": {},
   "outputs": [],
   "source": [
    "def is_anagram(list1, list2):\n",
    "    return False\n",
    "\n",
    "is_anagram('Ampel', 'Lampe')"
   ]
  }
 ],
 "metadata": {
  "kernelspec": {
   "display_name": "Python 3",
   "language": "python",
   "name": "python3"
  },
  "language_info": {
   "codemirror_mode": {
    "name": "ipython",
    "version": 3
   },
   "file_extension": ".py",
   "mimetype": "text/x-python",
   "name": "python",
   "nbconvert_exporter": "python",
   "pygments_lexer": "ipython3",
   "version": "3.8.6"
  }
 },
 "nbformat": 4,
 "nbformat_minor": 5
}
