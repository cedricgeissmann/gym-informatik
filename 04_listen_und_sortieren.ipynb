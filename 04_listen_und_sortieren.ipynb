{
 "cells": [
  {
   "cell_type": "markdown",
   "id": "beneficial-nursing",
   "metadata": {},
   "source": [
    "# Listen und Sortieren\n",
    "\n",
    "Beim Programmieren werden extrem oft Listen verwendet. Ein sehr häufiges Beispiel für Listen, sind Zeichenketten. Mit denen haben wir bereits gearbeitet.\n",
    "\n",
    "Von einem technischen Standpunkt aus gesehen, ist eine Zeichenkette einfach eine Liste die aus Buchstaben (oder Zeichen) besteht. Daher sollte der Name Zeichenkette nun auch Sinn ergeben.\n",
    "\n",
    "**Aufgabe:**\n",
    "> Führen Sie die nächste Zelle aus, und besprechen Sie das Resultat mit Ihrem Sitznachbarn."
   ]
  },
  {
   "cell_type": "code",
   "execution_count": null,
   "id": "constant-contest",
   "metadata": {},
   "outputs": [],
   "source": [
    "hello_str = 'Hello World!'\n",
    "print(len(hello_str))"
   ]
  },
  {
   "cell_type": "markdown",
   "id": "artificial-savage",
   "metadata": {},
   "source": [
    "## Länge von Listen\n",
    "\n",
    "Wie Sie in der Zelle oben gesehen haben, gibt Ihnen die `len()`-Funktion, die Länge einer Liste zurück. Oder wenn Sie es anders formulieren möchten: Die `len()`-Funktion gibt Ihnen die Anzahl Elemente einer Liste zurück. Bei einer Zeichenkette, sind dies genau die Anzahl Zeichen.\n",
    "\n",
    "## Auf bestimmte Elemente zugreifen\n",
    "\n",
    "Listen sind immer abgezählt und alle Elemente darin sind durch nummeriert. Das heisst Sie können auf einzelne Elemente der Liste zugreifen.\n",
    "\n",
    "**WICHTIG!!!**\n",
    "> Die nummerierung beginnt mit **0**. Das erste Element einer Liste ist also das Element **0**.\n",
    ">\n",
    "> Daraus folgt dass das letzte Element der Liste, die Anzahl Elemente in der Liste -1 ist.\n",
    "\n",
    "Möchten wir nun auf ein bestimmtes Element der Liste zugreifen, verwenden wir diese Klammern `[]`.\n",
    "\n",
    "**Aufgabe:**\n",
    "> Der Code in der nächsten Zelle, greift auf das erste Element der Liste zu, und gibt es aus. Ergänzen Sie den Code so, dass auch das letzte Element der Liste ausgegeben wird."
   ]
  },
  {
   "cell_type": "code",
   "execution_count": null,
   "id": "orange-harbor",
   "metadata": {},
   "outputs": [],
   "source": [
    "hello_str = 'Hello World!'\n",
    "first_element = hello_str[0]\n",
    "print(first_element)"
   ]
  },
  {
   "cell_type": "markdown",
   "id": "bottom-mining",
   "metadata": {},
   "source": [
    "## Das letzte Element\n",
    "\n",
    "Im Gegensatz zu anderen Programmiersprachen, macht Python einige Dinge viel einfacher und lesbarer für uns. Wenn wir zum Beispiel auf das letzte Element zugreifen möchten, können wir dies direkt mit `[-1]` machen.\n",
    "\n",
    "Die Idee dahinter ist die folgende: Wenn wir negative Zahlen verwenden, möchten wir vom Ende der Liste zählen.\n",
    "\n",
    "**Aufgabe:**\n",
    "> Schreiben Sie Code der die Zeichenkette `Hello World!`, Zeichen für Zeichen schreibt.\n",
    ">\n",
    "> *Tipp:* Verwenden Sie Schleifen."
   ]
  },
  {
   "cell_type": "code",
   "execution_count": null,
   "id": "disabled-worship",
   "metadata": {},
   "outputs": [],
   "source": []
  },
  {
   "cell_type": "markdown",
   "id": "theoretical-partner",
   "metadata": {},
   "source": [
    "## So unnötig!!!\n",
    "\n",
    "Sie fragen sich bestimmt weshalb wir diese sinnlose Aufgabe machen. Die haben ja bereits im ersten Kapitel ganze Zeichenketten komplett heraus geschrieben, und da war das ganze noch auf einer Zeile und leserlich...\n",
    "\n",
    "Wenn Sie das ganze mit einer `for`-Schleife geschrieben haben, oder es mit der Musterlösung vergleichen, sehen Sie das wir das gemacht haben um Schlaufen zu üben.\n",
    "\n",
    "**Musterlösung:**\n",
    "```python\n",
    "hello_str = 'Hello World!'\n",
    "for i in range(len(hello_str)):\n",
    "    print(hello_str[i])\n",
    "```\n",
    "\n",
    "Bis jetzt haben Sie sich sicher immer gefragt was dieses `i` in der Zeile `for i in range(10):` macht. Das `i` zählt von 0 bis 9 alle ganzen Zahlen durch, und kann innerhalb der Schleife direkt verwendet werden. Das scheint doch recht praktisch zu sein, aber wofür nur...\n",
    "\n",
    "**Aufgabe:**\n",
    "> Schreiben Sie Code der Ihnen die Zeichenkette `Hello World!` rückwärts ausgibt."
   ]
  },
  {
   "cell_type": "code",
   "execution_count": null,
   "id": "integral-ethics",
   "metadata": {},
   "outputs": [],
   "source": []
  },
  {
   "cell_type": "markdown",
   "id": "everyday-fourth",
   "metadata": {},
   "source": [
    "## An Listen anhängen\n",
    "\n",
    "Sie können Elemente auch an Listen anhängen. Auch das haben Sie bereits gemacht. Wenn Sie in Kapitel 1 den `+`-Operator verwendet haben um Zeichenketten zusammen zu hängen, haben Sie technisch gesehen, 2 Listen zusammen gehängt. Wir wollen aber nicht soweit vorgreifen und nur einzellne Elemente an eine Liste anhängen.\n",
    "\n",
    "Wenn Sie ein neues Element an eine Liste anhängen, entsteht eine neue Liste. Möchten wir mit der Liste mit dem angehängten Element weiter arbeiten, müssen wir diese speichern. Am besten überschreiben wir dann die alte Liste.\n",
    "\n",
    "**Aufgabe:**\n",
    "> Führen Sie die nächste Zelle aus, und machen Sie sich klar das Sie alles darin verstanden haben."
   ]
  },
  {
   "cell_type": "code",
   "execution_count": null,
   "id": "private-mobility",
   "metadata": {},
   "outputs": [],
   "source": [
    "hello_str = 'Hello World!'\n",
    "print(hello_str)\n",
    "hello_str = hello_str + '!'\n",
    "print(hello_str)\n",
    "hello_str = hello_str + '!'\n",
    "print(hello_str)"
   ]
  },
  {
   "cell_type": "markdown",
   "id": "extraordinary-morocco",
   "metadata": {},
   "source": [
    "## Vernünftige Ausgaben mit Text\n",
    "\n",
    "Vernünftige Systeme verfügen meist über ein Textbasiertes Benutzerinterface. In der Regel werden dort sogenannte Monospace-Fonts eingesetzt. Das bedeutet das jedes Zeichen gleich viel Platz braucht. Das ist sehr praktisch, denn dadurch kann man viel mehr Struktur im Text erkennen. Normalerweise werden dafür auch 80 Zeichen als die maximale Länge für eine Zeile festgelegt.\n",
    "\n",
    "**Aufgabe:**\n",
    "> Schreiben Sie eine Funktion, die eine Zeichenkette entgegen nimmt, und den Rest der Zeile mit `.` füllt, und das 80-ste Zeichen ist ein `$`."
   ]
  },
  {
   "cell_type": "code",
   "execution_count": null,
   "id": "level-tender",
   "metadata": {},
   "outputs": [],
   "source": [
    "def fill_with_dots(line_str):\n",
    "    # Hier kommt Ihr Code hin!!!\n",
    "    print(line_str)\n",
    "    \n",
    "fill_with_dots('Hello World!')\n",
    "fill_with_dots('Another string with different length.')"
   ]
  },
  {
   "cell_type": "markdown",
   "id": "proper-response",
   "metadata": {},
   "source": [
    "## Element in der Liste ersetzen\n",
    "\n",
    "Sie können auch Elemente in einer Liste ersetzen. Dazu verwenden Sie auch ganz einfach die `[]`-Klammern. Möchten Sie das Element an der Stelle 4 ersetzen, können Sie das mit dem folgenden Code machen:\n",
    "\n",
    "```python\n",
    "hello_str = 'Hello World!'\n",
    "hello_str[4] = '4'\n",
    "print(hello_str)\n",
    "```\n",
    "\n",
    "**Aufgabe:**\n",
    "> Schreiben Sie Code der alle `o`'s in einer Zeichenkette mit `_` ersetzt."
   ]
  },
  {
   "cell_type": "code",
   "execution_count": null,
   "id": "black-contest",
   "metadata": {},
   "outputs": [],
   "source": []
  },
  {
   "cell_type": "markdown",
   "id": "perfect-saturn",
   "metadata": {},
   "source": [
    "## Zeichenketten sind doof!\n",
    "\n",
    "Sie können Listen auch von allen anderen Dingen erstellen, wenn Sie Zeichenketten doof finden. Ob Sie Listen von Zahlen viel besser finden bleibt noch abzuwarten, aber wenigstens können wir diese sortieren!!!\n",
    "\n",
    "Zeichenketten sind ein Spezielfall von Listen. Normalerweise werden Listen anders erzeugt, nähmlich mit den `[]`-Klammern und dann werden alle Elemente aufgelistet. Hier ist ein Beispiel:\n",
    "\n",
    "```python\n",
    "example_list = [1, 3, 5, 2, 6, 4, 7]\n",
    "```\n",
    "\n",
    "Alles andere was sie vorhin über Listen gelernt haben, gilt sowohl für Listen wie auch für Zeichenketten.\n",
    "\n",
    "Weil Listen von Zahlen nicht so spannend sind, habe ich Ihnen eine Funktion implementiert, die Listen graphisch darstellt. In der nächsten Zelle finden Sie ein Beispiel dafür."
   ]
  },
  {
   "cell_type": "code",
   "execution_count": null,
   "id": "serial-closure",
   "metadata": {},
   "outputs": [],
   "source": [
    "from lib.mysort import *\n",
    "\n",
    "li = [20, 5, 1, 6, 3, 8, 2, 7, 4, 9]\n",
    "\n",
    "make_canvas()\n",
    "display_list(li)"
   ]
  },
  {
   "cell_type": "markdown",
   "id": "bibliographic-stocks",
   "metadata": {},
   "source": [
    "## Ähnlich wie die Turtle\n",
    "\n",
    "Der Code funktioniert ähnlich wie bei der Turtle. Auch hier müssen Sie wieder etwas importieren.\n",
    "\n",
    "Wichtig hier sind die Funktionen `make_canvas()`, welche Ihnen die Zeichenfläche gibt, und die Funktion `display_list()`, welche die graphische Repräsentation der Liste anzeigt. Die Elemente werden automatisch skaliert, Sie müssen also an fast nichts denken.\n",
    "\n",
    "Wenn Ihnen die Farbe nicht gefällt, können Sie diese mit `color()` ändern.\n",
    "\n",
    "## Sortieren\n",
    "\n",
    "Wir möchten diese Liste nun sortieren. Dazu verwenden wir den sogenannten *BubbleSort*.\n",
    "\n",
    "*BubbleSort*:\n",
    "> Beim *BubbleSort* werden immer 2 Elemente die direkt nebeneinander sind verglichen. Sind diese beiden bereits richtig sortiert, geht der Algorithmus eins weiter, wenn nicht, werden die beiden vertauscht."
   ]
  },
  {
   "cell_type": "code",
   "execution_count": null,
   "id": "cultural-birth",
   "metadata": {},
   "outputs": [],
   "source": [
    "from lib.mysort import *\n",
    "\n",
    "make_canvas()\n",
    "bubble_sort_demo()"
   ]
  },
  {
   "cell_type": "markdown",
   "id": "sealed-humidity",
   "metadata": {},
   "source": [
    "**Aufgabe:**\n",
    "> Implementieren Sie BubbleSort!"
   ]
  },
  {
   "cell_type": "code",
   "execution_count": null,
   "id": "authorized-thomas",
   "metadata": {},
   "outputs": [],
   "source": [
    "from lib.mysort import *\n",
    "\n",
    "make_canvas()\n",
    "li = get_random_list(10)\n",
    "display_list(li)"
   ]
  },
  {
   "cell_type": "markdown",
   "id": "departmental-filling",
   "metadata": {},
   "source": [
    "## Nur Zahlen sortieren ist aber auch langweilig\n",
    "\n",
    "Auch dieses Problem können wir ganz einfach beheben. In einem Computer sind alle Zeichen über Zahlen repräsentiert. Wie genau die definiert sind, wird im `ASCII`-Standart festgelegt. Das Zeichen `'a'` hat zum Beispiel den Wert `97` und `'b'` hat den Wert `98` etc. Das Zeichen `'A'` hat den Wert `65`.\n",
    "\n",
    "Man kann in Python den Wert eines Zeichens mit der Funktion `ord()` herausfinden. Ich hab für Sie bereits eine Funktion geschirben die Ihnen eine ganze Liste in die `ASCII`-Werte umwandelt. Mit der Funktion `convert_list_to_ascii()` können Sie auch Listen sortieren die nicht nur aus Zahlen bestehen.\n",
    "\n",
    "Python bietet Ihnen auch die praktische Funktion `list()` an. Mit der können Sie aus einer Zeichenkette eine Liste machen.\n",
    "\n",
    "**Aufgabe:**\n",
    "> In der nächsten Zelle finden Sie Code der Ihnen eine Liste von Zeichen gibt. Sortieren Sie diese Liste mit *BubbleSort*."
   ]
  },
  {
   "cell_type": "code",
   "execution_count": null,
   "id": "incredible-preview",
   "metadata": {},
   "outputs": [],
   "source": [
    "li = list('qwertzuiopasdfghjklyxcvbnm')"
   ]
  },
  {
   "cell_type": "markdown",
   "id": "composed-colleague",
   "metadata": {},
   "source": [
    "## Anagramm\n",
    "\n",
    "Ein Anagram ist ein Wort oder Satz, der aus den gleichen Buchstaben wie ein anderes Wort oder Satz gebaut ist.\n",
    "\n",
    "**Beispiel:**\n",
    "> Ampel $\\leftrightarrow$ Lampe\n",
    "\n",
    "**Aufgabe:**\n",
    "> Finden Sie eigene Beispiele für Anagramme und schreiben Sie eine Funktion `is_anagram(list1, list2)` die Ihnen sagt ob die beiden Listen ein Anagramm sind.\n",
    ">\n",
    "> *Tipp:* Bei Anagrammen wird nicht zwischen Gross- und Kleinschreibung unterschieden. Es hilft also wenn Sie alles in Kleinbuchstaben umwandeln."
   ]
  },
  {
   "cell_type": "code",
   "execution_count": null,
   "id": "laden-pearl",
   "metadata": {},
   "outputs": [],
   "source": [
    "def is_anagram(list1, list2):\n",
    "    return False\n",
    "\n",
    "is_anagram('Ampel', 'Lampe')"
   ]
  }
 ],
 "metadata": {
  "kernelspec": {
   "display_name": "Python 3",
   "language": "python",
   "name": "python3"
  },
  "language_info": {
   "codemirror_mode": {
    "name": "ipython",
    "version": 3
   },
   "file_extension": ".py",
   "mimetype": "text/x-python",
   "name": "python",
   "nbconvert_exporter": "python",
   "pygments_lexer": "ipython3",
   "version": "3.8.6"
  }
 },
 "nbformat": 4,
 "nbformat_minor": 5
}
