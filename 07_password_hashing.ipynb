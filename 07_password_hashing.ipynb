{
 "cells": [
  {
   "cell_type": "markdown",
   "metadata": {},
   "source": [
    "# Passwörter\n",
    "\n",
    "In diesem Teil beschäftigen wir uns mit Passwörtern. Zum einen geht es darum\n",
    "wie Passwörter auf einem Webserver gespeichert werden. Wir schauen uns auch an\n",
    "wie diese Passwörter gehackt werden können. Wir schauen uns dann noch sicherere\n",
    "Methoden an um Passwörter zu speichern. Ganz am Ende schauen wir uns noch an\n",
    "was ein sicheres Passwort ausmacht.\n",
    "\n",
    "## Verschlüsselung\n",
    "\n",
    "Schauen Sie sich zum Einstieg das folgende Video zu Verschlüsselung an: [https://www.youtube.com/watch?v=qpsCbQbbXk0](https://www.youtube.com/watch?v=qpsCbQbbXk0)\n",
    "\n",
    "Starten wir mit einer ganz einfachen Verschlüsselung, die sogenannte\n",
    "[Caesar-Verschlüsselung](https://de.wikipedia.org/wiki/Caesar-Verschl%C3%BCsselung).\n",
    "Bei der Ceasar-Verschlüsselung wird das ganze Alphabet einfach um einen Teil\n",
    "verschoben. In der nächsten Zelle finden Sie Code der Ihnen ein UI erzeugt mit\n",
    "dem Sie die Ceasar-Verschlüsselung ausprobieren können.\n"
   ]
  },
  {
   "cell_type": "code",
   "execution_count": null,
   "metadata": {},
   "outputs": [],
   "source": [
    "import ipywidgets as wdg\n",
    "\n",
    "html = wdg.HTML(\"<h1>Ceasar-Verschlüsselung</h1>\")\n",
    "in_text = wdg.Text(description=\"Text zum Verschlüsseln\")\n",
    "encode_shift = wdg.IntSlider(10, description=\"Verschiebung: \", min=0, max=255)\n",
    "out_text = wdg.HTML(\"\")\n",
    "layout = wdg.VBox([html, in_text, encode_shift, out_text])\n",
    "\n",
    "def ceasar_encrypt(text, shift=10):\n",
    "    text = text.lower()\n",
    "    res = \"\"\n",
    "    for c in text:\n",
    "        if ord(c) >= 97 and ord(c) <= 122:\n",
    "            sc = ord(c) - 97\n",
    "            sc = (sc + shift) % 26\n",
    "            sc = sc + 97\n",
    "        else:\n",
    "            sc = ord(c)\n",
    "        res += chr(sc)\n",
    "    return res\n",
    "\n",
    "def update(args):\n",
    "    out_text.value = ceasar_encrypt(in_text.value, encode_shift.value)\n",
    "    \n",
    "in_text.observe(update)\n",
    "encode_shift.observe(update)\n",
    "\n",
    "layout"
   ]
  },
  {
   "cell_type": "markdown",
   "metadata": {},
   "source": [
    "## Toll aber unsicher\n",
    "\n",
    "Man kann sich einfach vorstellen das dieses Verfahren in alten Zeiten recht\n",
    "praktisch war. Sie sehen aber bereits selbst das man das Verfahren sehr einfach\n",
    "umkehren kann. Es braucht zwar ein wenig Arbeit um jeden Buchstaben im Alphabet\n",
    "zu suchen und ihn um die richtige Ziffer zu verschieben, es kann aber noch ohne\n",
    "Probleme von Hand gemacht werden. Das Problem ist noch die Verschiebungsziffer\n",
    "zu erraten, aber gerade mit Computern geht das extrem schnell. Sie können das\n",
    "ja mal als freiwillige Aufgabe mit Ihren aktuellen Programmierkenntnissen\n",
    "versuchen.\n",
    "\n",
    "**Aufgabe:**\n",
    "> Entschlüsseln Sie den folgenden Text:\n",
    ">\n",
    "> `vsk akl waf kmhwj kauzwj nwjkuzdükkwdlwj lwpl vwf kaw fawesdk wflkuzdükkwdf owjvwf. kaw cöffwf vsk fguz kg dsfyw nwjkmuzwf! dwavwj kuzwafl vsk uswksj-nwjxszjwf vguz fauzl kg kauzwj rm kwaf, vwff kaw eükkwf espaesd 26 eöydauzcwalwf vmjuz hjgtawjwf, osk eal ugehmlwjf kwzj kuzfwdd ywzl.`\n",
    "\n",
    "## Vor- und Nachteile von Verschlüsselung\n",
    "\n",
    "Ein grosser Vorteil der Verschlüsselung, ist es dass der Prozess auch wieder\n",
    "umgedreht werden kann. Die Daten können also wieder entschlüsselt werden, wenn\n",
    "der Schlüssel bekannt ist. In Bezug auf Passwörter ist dies gleichzeitig der\n",
    "grösste Nachteil von Verschlüsselung.\n",
    "\n",
    "# Anmelden bei einem Online-Dienst\n",
    "\n",
    "Wenn Sie sich bei einem Online-Dienst anmelden, dann muss dieser Dienst Ihr\n",
    "Passwort speichern, damit er sicherstellen kann das es auch wirklich Sie sind\n",
    "der sich anmelden möchte. Der Online Dienst speichert ihr Passwort in einer\n",
    "Datenbank, und diese ist normalerweise sicher. Das Problem an diesem Schema\n",
    "ist, die Datenbank ist interessant für Hacker. Wenn ein Angreifer Zugriff auf\n",
    "eine Datenbank erhält in der sehr viele Benutzernamen (Email) und Passworte\n",
    "gespeichert sind, kann dieser Angreifer die Daten nutzen, um sich bei anderen\n",
    "Diensten anzumelden. Sie sehen hier bereits dass es für Sie extrem wichtig ist\n",
    "für jeden Dienst ein anderes Passwort zu wählen.\n",
    "\n",
    "**Aufgabe:**\n",
    "> In der nächsten Zelle finden Sie Code der die Anmeldung an einem Webservice\n",
    "> simuliert. Führen Sie die Zelle aus.\n",
    ">\n",
    "> Sie sollten nun ein UI sehen bei dem Sie sich anmelden können.\n",
    ">\n",
    "> Versuchen Sie sich anzumelden. Sie finden die folgenden beiden Benutzer auf dem System.\n",
    "\n",
    "|Benutzername | Passwort|\n",
    "|---|---|\n",
    "|admin|1234|\n",
    "|test|password|\n"
   ]
  },
  {
   "cell_type": "code",
   "execution_count": null,
   "metadata": {},
   "outputs": [],
   "source": [
    "import hashlib\n",
    "import ipywidgets as wdg\n",
    "\n",
    "\n",
    "def md5(input, silent=False):\n",
    "    s = bytes(input, 'utf-8')\n",
    "    res = hashlib.md5(s)\n",
    "    res = res.hexdigest()\n",
    "    if not silent:\n",
    "        print(f'Der md5-Hash von \"{input}\" ist: {res}')\n",
    "    else:\n",
    "        return res\n",
    "\n",
    "\n",
    "pw_list = {\n",
    "    'test': 'password',\n",
    "    'admin': '1234'\n",
    "}\n",
    "\n",
    "pw_list_hashed = {\n",
    "    'test': md5('password', True),\n",
    "    'admin': md5('1234', True)\n",
    "}\n",
    "\n",
    "rb_table = {\n",
    "    md5('password', True): 'password',\n",
    "    md5('1234', True): '1234'\n",
    "}\n",
    "\n",
    "\n",
    "def salted_hash(input, salt):\n",
    "    hash = md5(input + salt, True)\n",
    "    print(f'Der Hash-Wert von \"{input}\" mit dem Salz \"{salt}\" ist: {hash}')\n",
    "\n",
    "\n",
    "def auth(username, password, db=pw_list):\n",
    "    if username in db:\n",
    "        if db[username] == password:\n",
    "            return f'Erfolgreich! Der Benutzer \"{username}\" hat sich erfolgreich mit dem Passwort \"{password}\" angemeldet.'\n",
    "        else:\n",
    "            return f'Fehlgeschlagen! Das Passwort \"{password}\" für den Benutzer \"{username}\" ist falsch!!!'\n",
    "    else:\n",
    "        return f'Fehlgeschlagen! Konnte den Benutzer \"{username}\" nicht in der Datenbank finden.'\n",
    "\n",
    "def auth_hashed(username, password):\n",
    "    return auth(username, md5(password, True), pw_list_hashed)\n",
    "\n",
    "def dump():\n",
    "    print(pw_list)\n",
    "\n",
    "def dump_hashed():\n",
    "    print(pw_list_hashed)\n",
    "\n",
    "def lookup(input):\n",
    "    if input in rb_table:\n",
    "        print(f'Die Eingabe für den Hash-Wert \"{input}\" ist: \"{rb_table[input]}\"')\n",
    "    else:\n",
    "        print(f'Konnte keine Eingabe für den Hash-Wert \"{input}\" finden.')\n",
    "        \n",
    "def auth_wrapper(args):\n",
    "    success.value = auth(username.value, password.value)\n",
    "    \n",
    "def add_to_rainbow_table(pw, salt='', prepend=False):\n",
    "    if prepend:\n",
    "        rb_table[md5(salt + pw, True)] = salt + pw\n",
    "    else:\n",
    "        rb_table[md5(pw + salt, True)] = pw + salt\n",
    "\n",
    "title = wdg.HTML(\"<h1>Anmelden</h1>\")\n",
    "username = wdg.Text(description=\"Benutzername\")\n",
    "password = wdg.Password(description=\"Passwort\")\n",
    "submit = wdg.Button(description=\"Anmelden\")\n",
    "success = wdg.HTML(\"\")\n",
    "\n",
    "submit.on_click(auth_wrapper)\n",
    "\n",
    "layout = wdg.VBox([title, username, password, submit, success])\n",
    "layout"
   ]
  },
  {
   "cell_type": "markdown",
   "metadata": {},
   "source": [
    "## Bravo\n",
    "\n",
    "Sie haben sich erfolgreich angemeldet!!\n",
    "\n",
    "In der Ausgabe können Sie sehen das der Server unser Passwort im Klartext\n",
    "gespeichert hat, denn er kann es uns gerade anzeigen. Ein Alternative dazu ist\n",
    "das sogenannte Hashing von Passwörtern. Dabei werden die Passwörter unkenntlich\n",
    "gemacht, aber nicht so wie beim Verschlüsseln. Beim Hashing gibt es keine\n",
    "Umkehrung!\n",
    "\n",
    "# Hash-Funktion\n",
    "\n",
    "Eine **Hash-Funktion** nimmt eine Eingabe von beliebiger Länge und wandelt diese in eine Ausgabe von fixer Länge um und hat die weiteren Eigenschaften:\n",
    " \n",
    " - Gleiche Eingabe erzeugt **immer** die gleiche Ausgabe.\n",
    " - Bereits kleine Änderungen erzeugen eine komplet andere Ausgabe.\n",
    " - Ist **nicht** umkehrbar.\n",
    " - Verschiedene Eingaben haben nicht die gleichen Ausgaben.\n",
    "\n",
    "Wir schauen uns als Beispiel für eine **Hash-Funktion** die Funktion `md5()` an. Dafür steht Ihnen in der nächsten Zelle die Funktion `md5('passwort')` zur Verfügung. Die Funktion nimmt die Eingabe entgegen und sagt Ihnen was der **Hash-Wert** dieser Eingabe ist.\n",
    "\n",
    "> **Aufgabe:**  \n",
    "> Überprüfen Sie dass die ersten beiden Eigenschaften einer **Hash-Funktion** erfüllt sind, und dass alle Ausgaben die gleiche Länge haben.  \n",
    "> Dazu können Sie die Eingabe in der nächsten Zelle immer wieder ändern und ausführen, oder Sie Kopieren die Zeile und führen gleich mehrere Berechnungen in einer Zelle aus."
   ]
  },
  {
   "cell_type": "code",
   "execution_count": null,
   "metadata": {},
   "outputs": [],
   "source": [
    "md5('passwort')"
   ]
  },
  {
   "cell_type": "markdown",
   "metadata": {},
   "source": [
    "# Toll\n",
    "\n",
    "Sehr gut gemacht! Wir haben nun eine Funktion gefunden, mit der wir Text für uns unleserlich machen können. Damit können wir nun *Passwörter* so abspeichern, dass sie nicht direkt ausgelesen werden können.\n",
    "\n",
    "# Passwörter prüfen\n",
    "\n",
    "Jetzt wo wir die *Passwörter* nicht mehr lesen können, wie können wir nun sicher sein das sich ein Benutzer mit dem richtigen *Passwort* angemeldet hat?\n",
    "\n",
    "Das ist dank der Eigenschaften der **Hash-Funktion** zum Glück sehr einfach. Wir erinnern uns, das eine **Hash-Funktion** die gleiche Eingabe immer auf die gleiche Ausgabe umwandeln muss. Wir können also den **Hash-Wert** in der Datenbank speichern, und dann das *Passwort*, das wir erhalten, durch die **Hash-Funktion** geben, und dann die beiden vergleichen.\n",
    "\n",
    "**Aufgabe:**  \n",
    "> Wir simulieren nun die Anmeldung an einem Server der gehashte Passwörter\n",
    "> verwendet. Führen Sie die nächste Zelle aus, und melden Sie sich mit `admin`\n",
    "> und `1234` an.\n",
    ">\n",
    "> Was fällt Ihnen auf wenn Sie die Ausgabe betrachten?"
   ]
  },
  {
   "cell_type": "code",
   "execution_count": null,
   "metadata": {},
   "outputs": [],
   "source": [
    "def auth_wrapper(args):\n",
    "    success.value = auth_hashed(username.value, password.value)\n",
    "\n",
    "title = wdg.HTML(\"<h1>Anmelden</h1>\")\n",
    "username = wdg.Text(description=\"Benutzername\")\n",
    "password = wdg.Password(description=\"Passwort\")\n",
    "submit = wdg.Button(description=\"Anmelden\")\n",
    "success = wdg.HTML(\"\")\n",
    "\n",
    "submit.on_click(auth_wrapper)\n",
    "\n",
    "layout = wdg.VBox([title, username, password, submit, success])\n",
    "layout"
   ]
  },
  {
   "cell_type": "markdown",
   "metadata": {
    "id": "JYuRHpqDbOGL"
   },
   "source": [
    "# Wundervoll\n",
    "\n",
    "Einfach toll wie Sie das machen. Sie haben sich jetzt bei einem Webservice mit einem gehashten *Passwort* angemeldet.\n",
    "\n",
    "# Ist das wirklich sicher?\n",
    "\n",
    "Wie sicher ist das ganze denn in Wirklichkeit? Gibt es wirklich keinen Weg wie ich vom **Hash-Wert** zum Passwort komme?\n",
    "\n",
    "Die Eigenschaften einer **Hash-Funktion** macht es mathematisch Unmöglich die Umkehrfunktion zu berechnen. Wenn ich aber bereits weiss welche Eingabe in welchen **Hash-Wert** umgewandelt wird, kann ich mir das einfach merken und den **Hash-Wert** dann einfach in einer Tabelle nachschauen. Solche Tabellen nennt man auch **Rainbow-Tables**.\n",
    "\n",
    "# Rainbow Tables\n",
    "\n",
    "**Rainbow-Tables** sind Tabellen in denen die **Hash-Werte** für bekannte Eingaben gespeichert werden. Damit kann mit einem einfachen Nachschlagen die Eingabe bestimmt werden, die zu einem **Hash-Wert** gehört.\n",
    "\n",
    "In der nächsten Zelle finden sie die Funktion `lookup('hashwert')` mit der Sie die Eingabe von bestimmten **Hash-Werten** bestimmen können.\n",
    "\n",
    "> **Aufgabe:**  \n",
    "> Bestimmen Sie die *Passwörter* für alle **Hash-Werte** die Ihnen die Funktion `dump_hashed()` liefert."
   ]
  },
  {
   "cell_type": "code",
   "execution_count": null,
   "metadata": {
    "colab": {
     "base_uri": "https://localhost:8080/",
     "height": 34
    },
    "id": "2geJfJwAeu87",
    "outputId": "4000acde-016e-4cd9-d3eb-958ee54e84e4"
   },
   "outputs": [],
   "source": [
    "dump_hashed()"
   ]
  },
  {
   "cell_type": "code",
   "execution_count": null,
   "metadata": {
    "colab": {
     "base_uri": "https://localhost:8080/",
     "height": 34
    },
    "id": "BdPOZ-ATfA3L",
    "outputId": "71075fff-d9f3-44d4-d17a-c94724418587"
   },
   "outputs": [],
   "source": [
    "lookup('5f4dcc3b5aa765d61d8327deb882cf99')"
   ]
  },
  {
   "cell_type": "markdown",
   "metadata": {
    "id": "_gAW3pAYgl6g"
   },
   "source": [
    "# Schade\n",
    "\n",
    "Wenn es so einfach ist für Angreifer, die Passwörter zu entschlüsseln, bringt das doch alles nichts.\n",
    "\n",
    "# Salted Hashes\n",
    "\n",
    "Wie wir bereits wissen, führt schon eine kleine Änderung in der Eingabe, zu einem komplett anderen **Hash-Wert**. Wir können diese Eigenschaft also ausnutzen um es Hackern schwer bis unmöglich zu machen, die **Rainbow-Tables** zu verwenden.\n",
    "\n",
    "Dafür verwenden wir eine Technik die sich *salzen* nennt. Das bedeutet, dass wir eine beliebige Zeichenkette an das *Passwort* hängen, und dann den **Hash-Wert** davon bestimmen. Diese Zeichenkette nennen wir Salz. Das Salz ist pro Benutzer verschieden, und wird für jeden Benutzer in der Datenbank gespeichert. Wir können also mit dem Salz und dem *Passwort* den **Hash-Wert** berechnen den wir in der Datenbank gespeichert haben.\n",
    "\n",
    "In der nächsten Zelle finden Sie die neue Funktion `salted_hash()`. Diese nimmt das *Passwort* und das Salz als Eingabe, und berechnet den **Hash-Wert** den beiden in Kombination. Die Funktion `md5()` kennen Sie bereits von weiter oben.\n",
    "\n",
    "> **Aufgabe:**  \n",
    "> Überprüfen Sie für verschiedene Werte für *Passwort* und Salz, dass die Funktion `salted_hash()` das gleiche berechnet wie `md5()` von der zusammengesetzten Eingabe.  \n",
    "> Überprüfen Sie ausserdem, dass die **Hash-Werte** nicht übereinstimmen, wenn Sie den Salz bei der `md5()` Funktion weglassen."
   ]
  },
  {
   "cell_type": "code",
   "execution_count": null,
   "metadata": {
    "colab": {
     "base_uri": "https://localhost:8080/",
     "height": 51
    },
    "id": "sl_NFpMGlQyw",
    "outputId": "82005b9f-06c2-4d42-988c-3f4eb4d58f9a"
   },
   "outputs": [],
   "source": [
    "salted_hash('passwort', 'abcd')\n",
    "md5('passwortabcd')"
   ]
  },
  {
   "cell_type": "markdown",
   "metadata": {
    "id": "tbqs4ceMpPZt"
   },
   "source": [
    "# Hurra\n",
    "\n",
    "Toll! Nun kenne wir eine kompliziertere Version wie ich das Passwort hashen kann.\n",
    "\n",
    "Ich habe aber immer noch den Hash, den ich in einer **Rainbow-Table** nachschauen kann, und dann habe ich auch den Salz den ich einfach vom erhaltenen Wort abziehe, um das eigentliche Passwort zu erhalten. Bin ich jetzt also gleich weit wie zuvor?\n",
    "\n",
    "> **Aufgabe:**  \n",
    "> Überlegen Sie sich, wie man das Salz so wählen kann, dass die Methode sicher ist."
   ]
  },
  {
   "cell_type": "markdown",
   "metadata": {},
   "source": [
    "# Zusammenfassung\n",
    "\n",
    "Schauen Sie sich das folgende Video an: [https://www.youtube.com/watch?v=KiypYcB6NZ8](https://www.youtube.com/watch?v=KiypYcB6NZ8)\n",
    "\n",
    "# Passwörter knacken\n",
    "\n",
    "Um zu zeigen wie schnell und einfach man Passwörter knacken kann, simulieren wir eine *Brute-Force-Attacke*. Dazu generieren wir alle möglichen Passwörter bis zu einer gewissen Länge, und generieren davon den `md5`-Hashwert.\n",
    "\n",
    "Weil wir das hier nur als Beispiel machen, und nicht so starke Hardware verwenden, generieren wir nur Passwörter bis zur Länge 4, und auch nur aus den Kleinbuchstaben im Alphabet. Damit haben wir insgesamt $26^4$ mögliche Passwörter zur Verfügung. Wenn wir natürlich Sonderzeichen und längere Passwörter knacken möchten, brauchen wir dafür viel länger.\n",
    "\n",
    "Der Code in der Zelle unten erzeugt Ihnen die Passwörter, und fügt Sie gerade zur Rainbow-Table hinzu.\n",
    "Das machen Sie mit der Funktion `add_to_rainbow_table`. Dieser Funktion geben Sie als erstes das Passwort, und dann können Sie noch wählen ob Sie ein Salz übergeben. Mit `prepend=True` können Sie sagen ob das Salz vorne an das Passwort gehängt werden soll."
   ]
  },
  {
   "cell_type": "code",
   "execution_count": null,
   "metadata": {},
   "outputs": [],
   "source": [
    "# Brute Force\n",
    "from itertools import product\n",
    "\n",
    "chars = \"abcdefghijklmnopqrstuvwxyz\"\n",
    "\n",
    "word_list = list(product(list(chars), repeat=4))\n",
    "\n",
    "for pw in word_list:\n",
    "    pw = \"\".join(pw)\n",
    "    add_to_rainbow_table(pw, salt='salt')"
   ]
  },
  {
   "cell_type": "markdown",
   "metadata": {},
   "source": [
    "**Aufgabe:**\n",
    "> Finden Sie heraus welches Passwort den folgenden Hash erzeugt: `f51c28cce6bd726c35d0cdd247f16368`.\n",
    ">\n",
    "> **Tipp:** Sie wissen das ein Salz verwendet wird, und Sie wissen auch dass das Salz eine Zahl ist."
   ]
  },
  {
   "cell_type": "code",
   "execution_count": null,
   "metadata": {},
   "outputs": [],
   "source": [
    "lookup('f51c28cce6bd726c35d0cdd247f16368')"
   ]
  },
  {
   "cell_type": "markdown",
   "metadata": {},
   "source": [
    "# Sind Ihre Passwörter sicher?\n",
    "\n",
    "Gehen Sie auf die Webseite\n",
    "[https://haveibeenpwned.com/](https://haveibeenpwned.com/) und prüfen Sie ob\n",
    "einer Ihrer Accounts geleakt wurde. Wenn das der Fall ist, ändern Sie dort\n",
    "sofort Ihr Passwort und überall wo Sie die gleiche Email und dieses Passwort\n",
    "verwenden. Überlegen Sie sich einen Passwort-Manager zu verwenden."
   ]
  }
 ],
 "metadata": {
  "colab": {
   "collapsed_sections": [],
   "name": "Copy of password_hashing.ipynb",
   "provenance": []
  },
  "kernelspec": {
   "display_name": "Python 3",
   "language": "python",
   "name": "python3"
  },
  "language_info": {
   "codemirror_mode": {
    "name": "ipython",
    "version": 3
   },
   "file_extension": ".py",
   "mimetype": "text/x-python",
   "name": "python",
   "nbconvert_exporter": "python",
   "pygments_lexer": "ipython3",
   "version": "3.8.6"
  }
 },
 "nbformat": 4,
 "nbformat_minor": 1
}
