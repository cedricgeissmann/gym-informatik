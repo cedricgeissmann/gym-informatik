{
 "cells": [
  {
   "cell_type": "markdown",
   "metadata": {},
   "source": [
    "# Versionierung\n",
    "\n",
    "Versionierung ist eines der wichtigsten Werkzeuge das die Informatik\n",
    "hervorgebracht hat. Sie finden Versionierung in eigentlich allen Clouds und\n",
    "auch in Anwendungen wie `Word` oder `OneNote`. Das Problem bei dieser Art der\n",
    "Versionierung, ist das Sie in der Anwendung verbaut ist und nicht flexibel ist.\n",
    "Ausserdem kann damit immer nur eine Datei auf einmal versioniert werden. Das\n",
    "ist aber in der Praxis oft nicht der Fall. Gerade in der Softwareentwicklung\n",
    "braucht es oft Änderungen über mehrere Dateien die dann eine neue Version\n",
    "ausmachen. Das ist für Sie nicht ganz so relevant, aber wenn Sie an Ihrer\n",
    "Maturarbeit schreiben, kann es für Sie relevant werden. Und genau dafür möchten\n",
    "wir hier die Grundlage legen."
   ]
  },
  {
   "cell_type": "markdown",
   "metadata": {},
   "source": [
    "## Git\n",
    "\n",
    "Wir arbeiten mit einem Versionierungswerkzeug das in der Softwareentwicklung\n",
    "und auch in der Forschung und Projektarbeiten sehr verbreitet ist. Das Werkzeug\n",
    "heisst `Git`. Man kann es auf allen Desktop System verwenden, und zum teil\n",
    "sogar auch auf Tablets. Auf den schuleigenen Rechnern ist `Git` bereits\n",
    "installiert. Auf Ihrem eigenen gerät müssen Sie es noch installieren. Dazu\n",
    "können sie auf die folgende URL gehen [git](https://git-scm.com/). Laden Sie\n",
    "den Installer für Ihr Betriebssystem herunter, und installieren Sie `Git`."
   ]
  },
  {
   "cell_type": "markdown",
   "metadata": {},
   "source": [
    "## Github\n",
    "\n",
    "Wie für alles heutzutage gibt es auch für `Git` eine Cloud. Diese heisst\n",
    "`Github`. `Github` ist eine der grössten Seiten die für Open-Source Entwicklung\n",
    "eingesetzt wird. Praktisch alle Entwickler haben Ihren Code auf `Github`. Auch\n",
    "wir werden hier `Github` verwenden. Für Sie ist es ein extrem praktisches\n",
    "Werkzeug um gemeinsam an Projekten zu arbeiten oder Ihre Projekte auf\n",
    "verschiedenen Geräten bearbeiten zu können, oder einfach nur als Backup-Lösung\n",
    "falls Ihr Gerät mal ausfallen könnte.\n",
    "\n",
    "Um mit `Github` arbeiten zu können, müssen Sie sich einen Account erstellen.\n",
    "Gehen Sie dafür auf [github.com](https://github.com)."
   ]
  },
  {
   "cell_type": "markdown",
   "metadata": {},
   "source": [
    "## Texteditor\n",
    "\n",
    "Wenn Sie einen Account bei `Github` erstellt haben, ist es an der Zeit einen\n",
    "richtigen Texteditor auf Ihrem System zu installieren. Ich empfehle Ihnen sehr\n",
    "stark den Editor `VSCodium` zu installieren. Wenn Sie bereits einen anderen\n",
    "Texteditor haben, mit dem Sie sehr gut umgehen können, oder die nicht\n",
    "Open-Source-Variante `Visual Studio Code` installiert haben, können auch gerne\n",
    "diese verwenden. Ich würde jedoch allen empfehlen `VSCodium` zu installieren.\n",
    "Hier finden Sie den Link: [VSCodium](https://vscodium.com/). Auf der\n",
    "Downloadseite gibt es sehr viele Optionen. Wenn Sie nicht genau wissen welches\n",
    "für Ihr System das richtige ist, melden Sie sich.\n",
    "\n",
    "Wenn Sie `VSCodium` installiert haben, öffnen Sie `VSCodium` und erstellen ein\n",
    "neues Projekt. Dazu erstellen Sie zuerst einen Ordner auf Ihrem System (am\n",
    "einfachsten auf dem Schreibtisch) und öffnen diesen dann in `VSCodium` über die\n",
    "Option `Open Folder...`. Sie sollten jetzt ein neues leeres Projekt vor sich\n",
    "haben. Bevor Sie irgendetwas beginnen, müssen wir sagen das wir unser Projekt\n",
    "unter Versionskontrolle stellen möchten. Dazu finden Sie ganz auf der linken\n",
    "Seite in `VSCodium` eine Schaltfläche mit 3 Kreisen die miteinander verbunden\n",
    "sind (die dritte von Oben). Wenn Sie mit der Maus darüber fahren, sollte sowas\n",
    "wie `Source Control` erscheinen. Merken Sie sich das, dies ist die `Source\n",
    "Control` Schaltfläche, diese werden Sie noch oft brauchen. Klicken Sie die\n",
    "Schaltfläche an und Sie sind in der `Source Control` Ansicht. Hier sollten Sie\n",
    "eine blaue Schaltfläche sehen, mit der Anschrift `Initialize Repository`.\n",
    "Klicken Sie diese Schaltfläche an.\n",
    "\n",
    "**Bravo!** Sie haben Ihr erstes Projekt unter Versionskontrolle gestellt. Nun\n",
    "müssen Sie noch ein paar Einstellungen machen, bevor Sie endgültig loslegen\n",
    "können. Als erstes müssen Sie `Git` mitteilen wer Sie sind. Das ist wichtig da\n",
    "`Git` ein Kollaborationswerkzeug ist, und wissen muss von wem eine Änderung\n",
    "gemacht wurde. Das machen Sie am einfachsten über die Kommandozeile. Dafür\n",
    "finden Sie ganz oben im Menu den Punkt `Terminal > New Terminal`. Wenn Sie das\n",
    "angeklickt haben, sollte im unteren Bereich Ihres Fensters, ein neues Terminal\n",
    "aufgegangen sein. Wählen Sie das Terminal an, und geben die folgenden beiden\n",
    "Befehle ein (ein Befehl bestätigen Sie jeweils mit `Enter`):"
   ]
  },
  {
   "cell_type": "markdown",
   "metadata": {},
   "source": [
    "```bash\n",
    "git config user.name \"Ihr Name\"\n",
    "git gonfig user.email \"Ihre Email\"\n",
    "```"
   ]
  },
  {
   "cell_type": "markdown",
   "metadata": {},
   "source": [
    "Damit weiss `Git` wer Sie sind, und Sie können eine erste Änderung machen.\n",
    "\n",
    "## Erste Änderung\n",
    "\n",
    "Gehen Sie auf die `Explorer` Ansicht (oberste Schaltfläche ganz links). Dort\n",
    "können Sie eine neue Datei erstellen. Nennen Sie diese Datei `README.md`.\n",
    "Öffnen Sie die Datei und geben Sie ungefähr den folgenden Inhalt hinein:\n"
   ]
  },
  {
   "cell_type": "markdown",
   "metadata": {},
   "source": [
    "```markdown\n",
    "# Titel\n",
    "\n",
    "Das ist ein Abschnitt.\n",
    "```"
   ]
  },
  {
   "cell_type": "markdown",
   "metadata": {},
   "source": [
    "Wenn Sie die Datei nun speichern, sehen Sie das auf der `Source Control`\n",
    "Schaltfläche eine `1` aufgetaucht ist. `VSCodium` sagt Ihnen hier das Sie eine\n",
    "Änderung in Ihrem Projekt haben, die Sie noch nicht hinzugefügt haben. Machen\n",
    "Sie das gleich.\n",
    "\n",
    "Gehen Sie dazu auf die `Source Control` Ansicht. Dort Sehen Sie die Datei\n",
    "`README.md`. Fahren Sie mit der Maus darüber, und Sie sehen rechts vom\n",
    "Dateinamen ein `+`. Klicken Sie da drauf. Jetzt Sehen Sie das die Datei\n",
    "`README.md` unter `Staged Changes` erscheint. Das bedeutet dass die Datei im\n",
    "nächsten `Commit` enthalten sein soll. Jetzt müssen Sie den `Commit` noch\n",
    "abschliessen. Dazu müssen Sie immer eine Änderungsmeldung angeben. In der\n",
    "`Source Control` Ansicht finden sie ganz oben ein Textfeld. Da können Sie Ihre\n",
    "Nachricht reinschrieben und dann mit `Ctrl+Enter` oder `cmd+Enter` den `Commit`\n",
    "fertigstellen.\n",
    "\n",
    "**Super!** Jetzt haben Sie die erste Version von Ihrem Projekt erstellt!\n",
    "\n",
    "**Aufgabe:**\n",
    "> Machen Sie noch 2-3 Änderungen in der Datei `README.md`, die Sie jeweils\n",
    "> Speichern und als neue Versionen zu Ihrem Projekt hinzufügen."
   ]
  },
  {
   "cell_type": "markdown",
   "metadata": {},
   "source": [
    "## Github\n",
    "\n",
    "Sie haben ja einen Account auf `Github` gemacht, damit Sie Ihr Projekt auch\n",
    "teilen oder sichern können. Dafür müssen wir das `lokale` Projekt mit dem\n",
    "`remote` Projekt verbinden. Gehen Sie dafür auf `Github` und erstellen ein\n",
    "neues `Repository`. Haben Sie ein neues `Repository` erstellt, wird Ihnen eine\n",
    "URL angezeigt. Diese müssen Sie kopieren. Rufen Sie nach mir wenn hier\n",
    "Unklarheiten sind.\n",
    "\n",
    "Gehen Sie jetzt zurück in `VSCodium` auf die Ansicht `Source Control`. Dort\n",
    "finden Sie ganz oben eine Schaltfläche mit 3 Punkten. Klicken Sie diese an und\n",
    "wählen Sie `Remote > Add Remote...` aus. Dann sollte ein Eingabefenster\n",
    "erscheinen, wo Sie die URL die Sie kopiert haben eingeben können. Bevor Sie da\n",
    "auf `Enter` drücken, fügen Sie in der URL nach dem `https://` noch Ihren\n",
    "`Github`-Benutzernamen mit einem `@` ein. Bei mir sieht das dann ungefähr so\n",
    "aus.\n",
    "\n",
    "`https://cedricgeissmann@github.com/cedricgeissmann/git-demo`\n",
    "\n",
    "Wenn sie nun auf `Enter` drücken, werden Sie nach dem Namen für den `remote`\n",
    "gefragt. Konvention ist es hier `origin` zu wählen. Das können Sie dann auch\n",
    "mit `Enter` bestätigen.\n",
    "\n",
    "Wenn jetzt nochmals so ein Eingabefeld kommt das nach Ihrem Passwort fragt,\n",
    "können Sie Ihr `Github`-Passwort eingeben. Wenn ein ganz anderes Fenster\n",
    "erscheint, das Sie nach einer Anmeldung bei `Github` fragt, können Sie das\n",
    "einfach wegklicken."
   ]
  },
  {
   "cell_type": "markdown",
   "metadata": {},
   "source": [
    "## Fast geschafft\n",
    "\n",
    "Wie haben die Projekte jetzt verbunden. Sie können also Ihre Änderungen jetzt\n",
    "auf `Github` laden, man sagt dazu auch `pushen`. Dafür sehen Sie ganz unten\n",
    "links eine kleine Schaltfläche (entweder eine Wolke mit einem Pfeil von unten,\n",
    "oder zwei Pfeile die einen Kreis bilden), wenn Sie da drauf klicken, werden\n",
    "Ihre Änderungen auf `Github` hochgeladen. Sie können das überprüfen in dem Sie\n",
    "auf `Github` gehen, und Ihr `Repository` anschauen. `Github` zeigt Ihnen immer\n",
    "gleich an was in der Datei `README.md` steht, und diese wird auch formatiert."
   ]
  },
  {
   "cell_type": "markdown",
   "metadata": {},
   "source": [
    "## Anwenden\n",
    "\n",
    "Jetzt haben Sie das ganze Wissen um Versionen von Ihrem Projekt zu machen, und\n",
    "diese auch auf einem `remote` zu speichern. Jetzt geht es darum das auch ein\n",
    "wenig zu üben. Das machen Sie indem Sie das Tutorial für `Markdown`\n",
    "durcharbeiten (dies ist die Sprache indem Sie das `README.md` schreiben). Sie\n",
    "finden das Tutorial hier: [Markdown-Tutorial](https://www.markdowntutorial.com/).\n",
    "\n",
    "**Aufgabe:**\n",
    "> Für jeden Teil den Sie im Tutorial gemacht haben, halten Sie in der Datei\n",
    "> `README.md` fest, was Sie gelernt haben.\n",
    ">\n",
    "> Jeder Teil ist eine neue Version, die Sie zum Projekt hinzufügen und dann auf\n",
    "> `Github` hochladen."
   ]
  }
 ],
 "metadata": {
  "kernelspec": {
   "display_name": "Python 3",
   "language": "python",
   "name": "python3"
  },
  "language_info": {
   "codemirror_mode": {
    "name": "ipython",
    "version": 3
   },
   "file_extension": ".py",
   "mimetype": "text/x-python",
   "name": "python",
   "nbconvert_exporter": "python",
   "pygments_lexer": "ipython3",
   "version": "3.8.6"
  }
 },
 "nbformat": 4,
 "nbformat_minor": 5
}
