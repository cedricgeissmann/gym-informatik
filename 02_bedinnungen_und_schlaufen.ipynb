{
 "cells": [
  {
   "cell_type": "markdown",
   "metadata": {},
   "source": [
    "# Schleifen und Verzweigungen\n",
    "\n",
    "In diesem Kapitel schauen wir uns Schleifen und Verzweigungen an. Bevor wir\n",
    "jedoch soweit sind, wiederholen wir nochmals was wir im letzten Kapitel in der\n",
    "Einführung in Python gelernt haben."
   ]
  },
  {
   "cell_type": "markdown",
   "metadata": {},
   "source": [
    "## Wiederholung\n",
    "\n",
    "In der Einführung in Python haben wir gelernt das wir mit Hilfe der\n",
    "`print()`-Funktion, Text direkt ausgeben können. Wir können das erreichen indem\n",
    "wir die Funktion `print()` mit dem **Argument** `'Hello World!'` aufrufen.\n",
    "\n",
    "**Aufgabe:**\n",
    "> Rufen Sie die Funktion `print()` mit dem Argument `'Hello World!'` auf."
   ]
  },
  {
   "cell_type": "code",
   "execution_count": 3,
   "metadata": {},
   "outputs": [
    {
     "name": "stdout",
     "output_type": "stream",
     "text": [
      "default\n"
     ]
    }
   ],
   "source": [
    "def func(**kwargs):\n",
    "    a = kwargs.get('a', 'default')\n",
    "    print(a)\n",
    "    \n",
    "func(b='hh')"
   ]
  },
  {
   "cell_type": "markdown",
   "metadata": {},
   "source": [
    "Wir nehmen aus dieser Aufgabe mit, das `print()` eine Funktion ist, und der\n",
    "Wert den wir der Funktion übergeben, nennen wir **Argument**.\n",
    "\n",
    "Wir haben im letzten Kapitel auch noch andere Funktionen kennengelernt. Zum\n",
    "Beispiel die Funktion `input()`. Auch dieser Funktion können wir ein Argument\n",
    "übergeben - das ist dann der Text der vor dem Eingabefeld steht. Die Funktion\n",
    "`input()` gibt uns aber auch einen Wert zurück, nämlich das was wir im\n",
    "Eingabefeld eingegeben haben. Das nennt sich der **Rückgabewert** der Funktion.\n",
    "In der nächsten Zelle ist ein Beispiel wie mit der `input()`-Funktion\n",
    "gearbeitet werden kann."
   ]
  },
  {
   "cell_type": "code",
   "execution_count": null,
   "metadata": {},
   "outputs": [],
   "source": [
    "name = input('Geben Sie hier Ihren Namen ein: ')\n",
    "print('Hallo ' + name + '!')"
   ]
  },
  {
   "cell_type": "markdown",
   "metadata": {},
   "source": [
    "In dem Code in der Zelle oben, sehen Sie das der Rückgabewert der\n",
    "`input()`-Funktion in der Variable `name` gespeichert wird, damit wir die\n",
    "Eingabe des Benutzers später weiter verwenden können.\n",
    "\n",
    "Sie sehen auch das Text aus verschiedenen Teilen zusammengesetzt werden kann.\n",
    "Das wird mit dem `+`-Operator gemacht. Da der `+`-Operator aber auch die\n",
    "normale Additionsfunktion ist, kann der Computer einfach verwirrt werden, indem\n",
    "wir z.B. `'Hallo' + 2` schreiben. Damit dass funktioniert, haben wir im letzten\n",
    "Teil gesehen dass man die Funktion `str()` verwenden kann. Diese Funktion nimmt\n",
    "ein Argument entgegen, und gibt es als Zeichenkette zurück. Das ist praktisch\n",
    "wenn wir eine Zahl im Text ausgeben möchten.\n",
    "\n",
    "Die `str()`-Funktion hat auch ein Gegenstück: die Funktion `int()`. Diese nimmt\n",
    "eine Zeichenkette als Argument und gibt eine Zahl zurück.\n",
    "\n",
    "**Aufgabe:**\n",
    "> In der nächsten Zelle finden Sie den Code für einen einfachen Addierer. Lesen\n",
    "> Sie den Code ganz genau durch, und überlegen Sie sich jedesmal wenn Sie\n",
    "> `str()` oder `int()` lesen, weshalb diese Funktionen da gebraucht werden."
   ]
  },
  {
   "cell_type": "code",
   "execution_count": null,
   "metadata": {},
   "outputs": [],
   "source": [
    "num1 = input('Geben Sie eine erste Zahl ein: ')\n",
    "num1 = int( num1 )\n",
    "num2 = input('Geben Sie eine zweite Zahl aus: ')\n",
    "num2 = int( num2 )\n",
    "\n",
    "result = num1 + num2\n",
    "print('Das Ergebnis von ' + str(num1) + ' + ' + str(num2) + ' ist: ' + str(result))"
   ]
  },
  {
   "cell_type": "markdown",
   "metadata": {},
   "source": [
    "Mit dem Ihrem aktuellen Wissen, können Sie also einen einfachen Addierer\n",
    "programmieren. Sie könnten sicherlich den Code auch ein wenig ändern, damit ein\n",
    "Multiplizierer heraus kommt. Dann hätten Sie aber 2 Programme, und das scheint\n",
    "nicht so wirklich praktisch zu sein. Viel besser wäre es doch, wenn das\n",
    "Programm je nach Situation etwas anderes ausführt. Genau das können wir mit\n",
    "[**Verzweigungen**](#Verzweigungen) erreichen."
   ]
  },
  {
   "cell_type": "markdown",
   "metadata": {},
   "source": [
    "## Verzweigungen\n",
    "\n",
    "Mit [Verzweigungen](#Verzweigungen) kann Logik in das Programm gebracht werden.\n",
    "Man kann den Code so schreiben dass gewisse Stücke nur dann ausgeführt werden,\n",
    "wenn eine Bedingung erfüllt ist. Zum Beispiel kann überprüft werden ob eine\n",
    "Zahl grösser ist wie eine andere Zahl.\n",
    "\n",
    "**Aufgabe:**\n",
    "> Führen Sie den Code in der nächsten Zelle aus, und testen Sie mit den Zahlen\n",
    "> 12, 201, 3, 20 und 10 was passiert."
   ]
  },
  {
   "cell_type": "code",
   "execution_count": null,
   "metadata": {},
   "outputs": [],
   "source": [
    "zahl = input('Geben Sie eine Zahl ein: ')\n",
    "zahl = int( zahl )\n",
    "\n",
    "if zahl > 10:\n",
    "    print('Ihre Zahl ist grösser als 10.')"
   ]
  },
  {
   "cell_type": "markdown",
   "metadata": {},
   "source": [
    "## Merkwürdig\n",
    "\n",
    "Sie sehen dass nicht immer 2 Zeilen ausgegeben werden. Die zweite Zeile wird\n",
    "nur ausgegeben wenn die Zahl die Sie eingeben haben, grösser wie 10 ist. Der\n",
    "eingerückte Code nach dem `:` ist also Code der nur ausgeführt wird, wenn die\n",
    "Bedingung erfüllt ist.\n",
    "\n",
    "**Aufgabe:**\n",
    "> Kopieren Sie den Code von oben, und erweitern Sie das Programm so dass es\n",
    "> Ihnen auch sagt wenn die Zahl kleiner oder gleich 10 ist.\n",
    ">\n",
    "> Versuchen Sie das nur mit Ihrem aktuellen Wissen. Sie finden nach der Zelle\n",
    "> noch eine Musterlösung, diese kann und soll von Ihrer Lösung abweichen,\n",
    "> weiter unten wird dann erklärt wieso."
   ]
  },
  {
   "cell_type": "code",
   "execution_count": null,
   "metadata": {},
   "outputs": [],
   "source": []
  },
  {
   "cell_type": "markdown",
   "metadata": {},
   "source": [
    "**Musterlösung:**\n",
    "```python\n",
    "zahl = input('Geben Sie eine Zahl ein: ')\n",
    "zahl = int( zahl )\n",
    "\n",
    "if zahl > 10:\n",
    "    print('Ihre Zahl ist grösser als 10.')\n",
    "else:\n",
    "    print('Ihre Zahl ist kleiner oder gleich 10.')\n",
    "```\n",
    "\n",
    "In der Musterlösung sehen Sie das Schlüsselwort **else**. Man kann das in\n",
    "Verzweigungen verwenden, wenn man auch etwas machen möchte, falls die anderen\n",
    "Bedingungen nicht erfüllt sind. Das ist sehr praktisch wenn man Code hat, der\n",
    "in allen anderen Fällen ausgeführt werden soll.\n",
    "\n",
    "Für das Beispiel hier eignet sich dieser Code sehr gut, denn eine Zahl ist\n",
    "entweder grösser als 10 oder kleiner gleich 10. Wir könnten diesen Fall aber\n",
    "auch noch feiner aufteilen, und zwar in die 3 Fälle:\n",
    "\n",
    "- Die Zahl ist grösser als 10\n",
    "- Die Zahl ist kleiner als 10\n",
    "- Die Zahl ist gleich 10\n",
    "\n",
    "**Aufgabe:**\n",
    "> Schreiben Sie ein Programm das genau diese 3 Fälle abdeckt."
   ]
  },
  {
   "cell_type": "code",
   "execution_count": null,
   "metadata": {},
   "outputs": [],
   "source": []
  },
  {
   "cell_type": "markdown",
   "metadata": {},
   "source": [
    "**Musterlösung:**\n",
    "```python\n",
    "zahl = input('Geben Sie eine Zahl ein: ')\n",
    "zahl = int( zahl )\n",
    "\n",
    "if zahl > 10:\n",
    "    print('Ihre Zahl ist grösser als 10.')\n",
    "elif zahl < 10:\n",
    "    print('Ihre Zahl ist kleiner als 10.')\n",
    "else:\n",
    "    print('Ihre Zahl genau gleich 10.')\n",
    "```\n",
    "\n",
    "Hier sehen Sie das neue Schlüsselwort **elif**. Das ist eine Abkürzung für\n",
    "*else if*. Damit können weitere Bedingungen in die gleiche Verzweigung\n",
    "eingeführt werden. Der Fall von **else** wird dann nur ausgeführt falls keine\n",
    "der anderen Bedingungen erfüllt ist."
   ]
  },
  {
   "cell_type": "markdown",
   "metadata": {},
   "source": [
    "## Bedinnungen\n",
    "\n",
    "Bedingungen sind logische Ausdrücke die entweder `True` oder `False` sind.\n",
    "Diese müssen sich nicht nur auf Zahlen beziehen, es können alle möglichen sehr\n",
    "komplizieren Bedingungen konstruiert werden. Kompliziertere Bedingungen werden\n",
    "Sie dann auch und nach mit mehr Programmierkentnissen entwickeln können.\n",
    "Interessant für uns ist im Moment dass wir auf Gleichheit in Zeichenketten\n",
    "prüfen können.\n",
    "\n",
    "Wenn Sie in Python etwas auf Gleichheit prüfen, dann verwenden Sie den\n",
    "`==`-Operator. Das ist sehr wichtig und Sie sollten sich das unbedingt merken,\n",
    "denn da schleichen sich oft Fehler ein.\n",
    "\n",
    "**Aufgabe:**\n",
    "> In der nächsten Zelle finden Sie Code der Ihre Eingabe auf verschiedene\n",
    "> Zeichen überprüft. Erweitern Sie den Code soweit, bis Sie alle Fälle für die\n",
    "> Zeichen `+, -, *, /, **` abgedeckt haben."
   ]
  },
  {
   "cell_type": "code",
   "execution_count": null,
   "metadata": {},
   "outputs": [],
   "source": [
    "operator = input('Geben Sie eine mathematische Operation ein: ')\n",
    "if operator == '+':\n",
    "    print('Sie haben die + Operation gewählt.')\n",
    "else:\n",
    "    print('Die Operation ' + operator + ' ist unbekannt')"
   ]
  },
  {
   "cell_type": "markdown",
   "metadata": {},
   "source": [
    "## Ein grösseres Programm\n",
    "\n",
    "Sie sehen das der Code schon relativ gross wird, deshalb ist es wichtig das wir\n",
    "den Code so strukturieren, dass wir die Übersicht behalten können. Wichtig\n",
    "dafür ist, das wir alles was zusammen gehört und Blöcken organisieren und die\n",
    "Variablen so benennen, das wir den Sinn aus dem Code direkt lesen können. Das\n",
    "werden Sie jetzt gleich ausprobieren können.\n",
    "\n",
    "**Aufgabe:**\n",
    "> Schreiben Sie ein Programm, das 2 Zahlen und ein mathematisches Zeichen vom\n",
    "> Benutzer einliest. Dann soll diese Rechnung vom Programm ausgeführt werden.\n",
    ">\n",
    "> **Tipp:** Sie haben den meisten Code schon geschrieben, Sie können alles in\n",
    "> den vorherigen Zellen finden."
   ]
  },
  {
   "cell_type": "code",
   "execution_count": null,
   "metadata": {},
   "outputs": [],
   "source": []
  },
  {
   "cell_type": "markdown",
   "metadata": {},
   "source": [
    "## Funktionen zur Hilfe\n",
    "\n",
    "Sie sehen dass der Code relativ unübersichtlich wird. Einen grossen Beitrag zur\n",
    "Unübersichtlichkeit und zur Unleserlichkeit, tragen die vielen\n",
    "`print()`-Funktionen bei. Diese sehen alle fast gleich aus, und es ist schwer\n",
    "in all den vielen Zeichen die mathematische Operation auszumachen. Dafür können\n",
    "wir Funktionen verwenden, um alles übersichtlicher zu machen. Diese Funktionen\n",
    "werden jetzt 2 Argumente haben, aber das soll Sie nicht weiter stören.\n",
    "\n",
    "**Aufgabe:**\n",
    "> In der nächsten Zelle, finden Sie Code der die Additionsfunktion definiert,\n",
    "> schreiben Sie analog dazu die Funktionen für die anderen mathematischen\n",
    "> Operationen."
   ]
  },
  {
   "cell_type": "code",
   "execution_count": null,
   "metadata": {},
   "outputs": [],
   "source": [
    "def add_and_print(num1, num2):\n",
    "    result = num1 + num2\n",
    "    print(str(num1) + ' + ' + str(num2) + ' = ' + str(result))\n",
    "    return result\n",
    "\n",
    "# Zum testen ob die Funktion das macht was sie soll\n",
    "res = add_and_print(3, 2)"
   ]
  },
  {
   "cell_type": "markdown",
   "metadata": {},
   "source": [
    "## Halt!!\n",
    "\n",
    "Hier passiert sehr viel auf einmal, und wir sollten uns die Zeit nehmen zu\n",
    "verstehen was hier passiert.\n",
    "\n",
    "Wir schauen zuerst mal auf die zweitletzte Zeile, Wir sehen dass diese mit\n",
    "einem `#` beginnt. Das `#`-Zeichen bedeutet dass alles was in dieser Zeile\n",
    "hinter diesem Zeichen kommt, nur Kommentar ist. Das wird also nicht vom Code\n",
    "ausgeführt. Für uns ist das sehr praktisch, denn wir können damit Dinge im Code\n",
    "aufzeigen, die nicht offensichtlich sind.\n",
    "\n",
    "Den Rest kennen Sie eigentlich schon aus dem letzten Teil, wir gehen aber\n",
    "nochmals darüber. In der ersten Zeile wird eine neue Funktion definiert, dass\n",
    "können wir am Schlüsselwort **def** erkennen. Danach folgt der Name der\n",
    "Funktion - dieser muss an einem Stück sein, deshalb die Unterstriche. Dann in\n",
    "den Klammern kommen die Argumente der Funktion. In diesem Fall sind es 2\n",
    "Argumente (`num1, num2`). Der `:` ist wichtig, denn er sagt das die Definition\n",
    "hier fertig ist, und danach folgt der Code der diese Funktion ausführen soll.\n",
    "\n",
    "**Wichtig!** Sie sehen das der Code der zu dieser Funktion gehört eingerückt\n",
    "ist, dass muss so sein, damit Python weiss was zu der Funktion gehört und wann\n",
    "diese endet.\n",
    "\n",
    "Die Argumente `num1, num2` können innerhalb der Funktion verwendet werden, und\n",
    "sie haben die Werte die beim Funktionsaufruf übergeben werden. Sie bestehen\n",
    "ausserhalb der Funktion nicht weiter! Die Variable `result` wird innerhalb der\n",
    "Funktion definiert, und kann nur dort verwendet werden. Da wir das Resultat der\n",
    "Addition aber vermutlich auch ausserhalb der Funktion verwenden möchten, können\n",
    "wir dieses mit `return` zurückgeben. Wollen wir das Resultat dann weiter\n",
    "verwenden, müssen wir diesen in einer Variable speichern, so wie das in der\n",
    "letzten Zeile gemacht wird."
   ]
  },
  {
   "cell_type": "markdown",
   "metadata": {},
   "source": [
    "## Aber das bringt doch nichts, ausser mehr Code...\n",
    "\n",
    "Es ist hier noch schwer zu sehen, dass und dies auch wirklich was bringt. Das\n",
    "Hauptargument hier ist aber sicher Leserlichkeit.\n",
    "\n",
    "**Aufgabe:**\n",
    "> Kopieren Sie den Code von weiter oben (Ihren Taschenrechner) in die nächste\n",
    "> Zelle, und ersetzen Sie die Teile die Sie können mit den Funktionsaufrufen\n",
    "> die Sie jetzt geschrieben haben."
   ]
  },
  {
   "cell_type": "code",
   "execution_count": null,
   "metadata": {},
   "outputs": [],
   "source": []
  },
  {
   "cell_type": "markdown",
   "metadata": {},
   "source": [
    "## Schon viel besser!\n",
    "\n",
    "Viel besser ist vermutlich übertrieben, aber zumindest sehen Sie jetzt direkt\n",
    "was Ihr Code machen soll, wenn Sie die Funktionen entsprechend benannt haben.\n",
    "\n",
    "Ausserdem, sehen Sie einen weiteren Vorteil von Funktionen. Sie müssen die\n",
    "Logik nur einmal schreiben, und können diese dann immer wieder auch an anderen\n",
    "Stellen im Code wiederverwenden. Das aus aus mehreren Gründen sehr praktisch.\n",
    "Sie müssen sich die Logik nur einmal überlegen. Wenn Sie was ändern, wird das\n",
    "gleich an allen Stellen geändert."
   ]
  },
  {
   "cell_type": "markdown",
   "metadata": {},
   "source": [
    "## Vorsicht Jupyter\n",
    "\n",
    "Sie müssen an dieser Stelle ein wenig aufpassen, denn Jupyter verhält sich hier\n",
    "anders wie vielleicht erwartet. Wenn Sie in einem Jupyter Notebook Code\n",
    "ausführen, dann wird das im Hintergrund gespeichert, dass heisst: Code den Sie\n",
    "in einer früheren Zelle ausgeführt haben, ist immer noch für Sie verfügbar. Das\n",
    "ist sehr praktisch, da Sie nicht immer allen Code kopieren müssen, es birgt\n",
    "aber auch das Potenzial für Fehler, denn es kann sein das eine Variable einen\n",
    "anderen Wert hat wie Sie das erwarten würden, da der Variable der Wert in einer\n",
    "anderen Zelle bereits zugewiesen wurde. Deshalb ist es am besten nur Variablen\n",
    "zu verwenden, die Sie auch in der Zelle selbst definieren."
   ]
  },
  {
   "cell_type": "markdown",
   "metadata": {},
   "source": [
    "## Wiederholung\n",
    "\n",
    "Verzweigungen sind sehr praktisch, da wir ein Programm für unterschiedliche\n",
    "Lösungen schreiben können. Es gibt aber auch Probleme die mehrfach wiederholt\n",
    "werden müssen, um diese zu lösen.\n",
    "\n",
    "**Aufgabe:**\n",
    "> Schreiben Sie ein Programm, welches zur Zahl 3 die Zahl 5 genau 6 mal dazu\n",
    "> addiert. "
   ]
  },
  {
   "cell_type": "code",
   "execution_count": 1,
   "metadata": {},
   "outputs": [
    {
     "name": "stdout",
     "output_type": "stream",
     "text": [
      "33\n"
     ]
    }
   ],
   "source": [
    "zahl = 3\n",
    "\n",
    "zahl = zahl + 5\n",
    "zahl = zahl + 5\n",
    "zahl = zahl + 5\n",
    "zahl = zahl + 5\n",
    "zahl = zahl + 5\n",
    "zahl = zahl + 5\n",
    "\n",
    "print(zahl)"
   ]
  },
  {
   "cell_type": "markdown",
   "metadata": {},
   "source": [
    "**Lösung:**\n",
    "\n",
    "```python\n",
    "result = 3\n",
    "for i in range(6):\n",
    "    result = result + 5\n",
    "\n",
    "print(result)\n",
    "```\n",
    "\n",
    "In dieser Lösung sehen Sie eine `for`-Schleife. Manchmal wird dazu auch\n",
    "Zählschleife gesagt. Sie können die Zeile mit dem `for` aber ziemlich wörtlich\n",
    "lesen. Was da eigentlich steht ist: Für jedes `i` im Bereich von 0 bis 6, führe\n",
    "den Code unten aus.\n",
    "\n",
    "**Aufgabe:**\n",
    "> Schreiben Sie ein Programm das 3 Zahlen einliest. Die erste Zahl ist der\n",
    "> Startwert, die zweite Zahl ist wieviel in jedem Schritt dazu addiert wird,\n",
    "> die dritte Zahl ist die Anzahl Schritte.\n",
    ">\n",
    "> Das Programm soll eine Verallgemeinerung von dem Programm in der letzten\n",
    "> Zelle sein."
   ]
  },
  {
   "cell_type": "code",
   "execution_count": null,
   "metadata": {},
   "outputs": [],
   "source": []
  },
  {
   "cell_type": "markdown",
   "metadata": {},
   "source": [
    "## `while`-Schleife\n",
    "\n",
    "Es gibt neben der `for`-Schleife, auch noch eine `while`-Schleife. Diese führt\n",
    "Code aus, solange eine Bedingung erfüllt ist. Sie können also über die\n",
    "`while`-Schleife, in etwa so denken wie eine `if`-Verzweigung mit Wiederholung.\n",
    "\n",
    "**Aufgabe:**\n",
    "> Ändern Sie das Programm aus der letzten Aufgabe so ab, dass es die erste Zahl\n",
    "> so lange um die zweite Zahl erhöht, bis das Resultat grösser ist, wie die\n",
    "> dritte Zahl."
   ]
  },
  {
   "cell_type": "code",
   "execution_count": null,
   "metadata": {},
   "outputs": [],
   "source": []
  },
  {
   "cell_type": "markdown",
   "metadata": {},
   "source": [
    "**Lösung:**\n",
    "```python\n",
    "zahl1 = int( input('Geben Sie die erste Zahl ein: '))\n",
    "zahl2 = int( input('Geben Sie die zweite Zahl ein: '))\n",
    "zahl3 = int( input('Geben Sie die dritte Zahl ein: '))\n",
    "\n",
    "result = zahl1 + zahl2\n",
    "\n",
    "while(result <= zahl3):\n",
    "    result = result + zahl2\n",
    "    \n",
    "print('Die Zahl ' + str(result) + ' ist die erste Zahl die grösser ist als ' + str(zahl3))\n",
    "```"
   ]
  },
  {
   "cell_type": "markdown",
   "metadata": {},
   "source": [
    "## Zahlen raten\n",
    "\n",
    "In der nächsten Aufgabe, müssen Sie ein Ratespiel gegen den Computer schreiben.\n",
    "Sie raten immer eine Zahl, und er Computer sagt Ihnen ob die Zahl die er\n",
    "ausgesucht hat, grösser oder kleiner, als die Zahl ist die Sie geraten haben.\n",
    "Ganz zu beginn fragt Sie der Computer, was die grösste Zahl ist, die er\n",
    "aussuchen könnte. In der nächsten Zelle, finden Sie den Code mit dem der\n",
    "Computer eine zufällige Zahl aussucht, ergänzen Sie den Rest des Programms."
   ]
  },
  {
   "cell_type": "code",
   "execution_count": 3,
   "metadata": {},
   "outputs": [
    {
     "name": "stdout",
     "output_type": "stream",
     "text": [
      "Was soll die grösste Zahl sein? 10\n",
      "Raten Sie eine Zahl: 5\n",
      "Die Zahl ist grösser...\n",
      "Raten Sie eine Zahl: 7\n",
      "Die Zahl ist grösser...\n",
      "Raten Sie eine Zahl: 8\n",
      "Die Zahl ist grösser...\n",
      "Raten Sie eine Zahl: 9\n",
      "Die Zahl ist grösser...\n",
      "Raten Sie eine Zahl: 10\n",
      "Richtig!!!\t Die Zahl ist: 10\n"
     ]
    }
   ],
   "source": [
    "from random import randint\n",
    "\n",
    "upper_bound = int( input('Was soll die grösste Zahl sein? ') )\n",
    "random_number = randint(0, upper_bound)\n",
    "\n",
    "guess = int( input('Raten Sie eine Zahl: ') )\n",
    "\n",
    "while guess != random_number:\n",
    "    if random_number > guess:\n",
    "        print('Die Zahl ist grösser...')\n",
    "    elif random_number < guess:\n",
    "        print('Die Zahl ist kleiner...')\n",
    "    guess = int( input('Raten Sie eine Zahl: ') )\n",
    "        \n",
    "print('\\nRichtig!!!\\t Die Zahl ist: ' + str(guess))"
   ]
  },
  {
   "cell_type": "markdown",
   "metadata": {},
   "source": [
    "## Adventure Game\n",
    "\n",
    "Jetzt haben Sie alle Kenntnisse um ein einfacher textbasiertes Computerspiel zu\n",
    "schreiben. In der nächsten Zelle, gebe ich Ihnen ein einfaches Gerüst für ein\n",
    "Computerspiel vor. Sie können dieses nach eigenem Interesse ausbauen. Sie\n",
    "finden hier noch ein paar Vorschläge, Sie dürfen natürlich auch andere Dinge\n",
    "implementieren und müssen nicht alle Vorschläge umsetzen.\n",
    "\n",
    "- Geben Sie vor jedem Kampfschritt aus was Ihre aktuelle HP ist (und weitere wichtige Dinge).\n",
    "- Führen Sie eine Aktion *heilen* hinzu.\n",
    "- Führen Sie den Zufall ein, zum Beispiel auf die Stärke Ihres Angriffes.\n",
    "- Führen Sie einen Monsterzähler ein, das Spiel soll erst vorbei sein wenn Sie eine bestimmte Anzahl an Monstern besiegt haben.\n",
    "- Führen Sie eine Aktion *heilen* für das Monster ein.\n",
    "- Führen Sie eine Aktion *flüchten* für das Monster ein.\n",
    "- Führen Sie eine Aktion *rage* ein. Der Spieler greift das Monster 2 bis 5 mal in Folge an.\n",
    "\n",
    "**Hinweis!**\n",
    "> Das Schlüsselwort `global` wird gebraucht, weil wir in der Funktion auf eine\n",
    "> Variable von ausserhalb zugreifen möchten. Das ist eine sehr schlechte\n",
    "> Programmierpraxis, und sollte um jeden Fall verhindert werden!!! Wir brauchen\n",
    "> es hier aber im Moment noch, das uns die nötige Kenntnis für andere\n",
    "> Techniken fehlt."
   ]
  },
  {
   "cell_type": "code",
   "execution_count": null,
   "metadata": {},
   "outputs": [],
   "source": [
    "from random import randint\n",
    "\n",
    "hp_player = 100\n",
    "player_name = input('Geben Sie einen Namen für Ihren Charakter ein: ')\n",
    "base_attack_player = 5\n",
    "\n",
    "hp_monster = 20\n",
    "base_attack_monster = 3\n",
    "\n",
    "\n",
    "def player_alive():\n",
    "    if hp_player <= 0:\n",
    "        return False\n",
    "    else:\n",
    "        return True\n",
    "\n",
    "def game_not_over():\n",
    "    if player_alive() and hp_monster > 0:\n",
    "        return True\n",
    "    else:\n",
    "        return False\n",
    "    \n",
    "    \n",
    "def player_action():\n",
    "    global hp_monster  # Siehe Hinweis oben\n",
    "    action = input('Was möchten Sie tun? ')\n",
    "    if action == 'angreifen': \n",
    "        hp_monster = hp_monster - base_attack_player\n",
    "    else:\n",
    "        print('Ich weiss nicht was diese Aktion ist, und bleibe einfach mal stehen...')\n",
    "        \n",
    "def monster_action():\n",
    "    global hp_player  # Siehe Hinweis oben\n",
    "    random_action = randint(0, 4)\n",
    "    if random_action > 3:\n",
    "        print('Das Monster ist wütend und führt einen schweren Angriff aus!')\n",
    "        hp_player = hp_player - 2 * (base_attack_monster)\n",
    "    else:\n",
    "        print('Das Monster führt einen Angriff aus!')\n",
    "        hp_player = hp_player - (base_attack_monster)\n",
    "\n",
    "while game_not_over():\n",
    "    print()\n",
    "    print('Sie werden von einem Monster mit ' + str(hp_monster) + 'HP angegriffen.')\n",
    "    player_action()\n",
    "    monster_action()\n",
    "    \n",
    "print('Das Spiel ist vorbei...')"
   ]
  }
 ],
 "metadata": {
  "kernelspec": {
   "display_name": "Python 3",
   "language": "python",
   "name": "python3"
  },
  "language_info": {
   "codemirror_mode": {
    "name": "ipython",
    "version": 3
   },
   "file_extension": ".py",
   "mimetype": "text/x-python",
   "name": "python",
   "nbconvert_exporter": "python",
   "pygments_lexer": "ipython3",
   "version": "3.8.6"
  }
 },
 "nbformat": 4,
 "nbformat_minor": 4
}
