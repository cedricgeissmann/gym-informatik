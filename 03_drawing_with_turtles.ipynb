{
 "cells": [
  {
   "cell_type": "markdown",
   "metadata": {},
   "source": [
    "# Turtle Graphics\n",
    "\n",
    "In diesem Kapitel beschäftigen wir uns mit sogenannten Turtle Graphics. Diese sind ein nützliches Tool im erlernen vom Programmieren, denn es geht darum einer Schildkröte Anweisungen zu erteilen, welche am Ende zu einem Bild führen.\n",
    "\n",
    "Die Schildkröte trägt einen Stift bei sich, der entweder auf dem Papier ist, oder hochgehalten wird. Der Schildkröte kann man dann Anweisungen erteilen wie:\n",
    "\n",
    "- Laufe nach vorne\n",
    "- Drehe dich nach rechts\n",
    "- Stift hoch\n",
    "- Stift runter\n",
    "\n",
    "Damit können recht komplexe Bilder entstehen.\n",
    "\n",
    "## Beispiel\n",
    "\n",
    "Um zu verstehen wie das geht, ist in der nächsten Zelle ein Beispiel aufgeführt.\n",
    "\n",
    "Die Schildkröte startet immer mit dem Stift am Boden und in der Mitte des Feldes. Die Blickrichtung der Schildkröte ist immer nach rechts.\n",
    "\n",
    "In dem Beispiel, läuft die Schildkröte 50 Einheiten in Blickrichtung, dann dreht sie sich um 90° nach rechts (aus der Blickrichtung der Schildkröte) un läuft nochmals 50 Einheiten nach vorne."
   ]
  },
  {
   "cell_type": "code",
   "execution_count": 1,
   "metadata": {},
   "outputs": [
    {
     "data": {
      "application/vnd.jupyter.widget-view+json": {
       "model_id": "d1c85a773573430da6fb0da4e8a5ecf7",
       "version_major": 2,
       "version_minor": 0
      },
      "text/plain": [
       "Canvas(height=400, width=400)"
      ]
     },
     "metadata": {},
     "output_type": "display_data"
    }
   ],
   "source": [
    "from lib.myturtle import *\n",
    "\n",
    "make_turtle()\n",
    "\n",
    "forward(50)\n",
    "turn(90)\n",
    "forward(50)\n",
    "\n",
    "show()"
   ]
  },
  {
   "cell_type": "markdown",
   "metadata": {},
   "source": [
    "## Zeile für Zeile\n",
    "\n",
    "Die erste Zeile brauchen wir damit wir die Turtle überhaupt verwenden können. Wir haben das in früherem Code bereits gesehen, wenn wir `random` importieren mussten. Importieren müssen wir immer wenn wir etwas möchten das nicht im Standart Python enthalten ist. Das ist auch sinnvoll so, denn nicht alle Programme brauchen alles, deshalb laden wir zusätzliche Funktionalität einfach mit dem `import` dazu.\n",
    "\n",
    "**Hinweis:**\n",
    ">Hier wird von `lib.turtle` importiert. Das ist ein selbst geschriebenes Modul und ist direkt nicht verfügbar wenn Sie den Code wo anders ausführen. Darüber werden wir später noch mehr lernen, auch wie es möglich ist eigene Module zu verwenden.\n",
    "\n",
    "`make_turtle()`: Mit dieser Funktion wir eine neue Turtle erstellt. Mit ihr wird auch immer gleich ein neues Zeichenfeld erstellt. Diese Funktion müssen Sie immer an Anfang einer neuen Zeichnung aufrufen.\n",
    "\n",
    "`forward(50)`: Wie der Name bereits suggeriert, lässt diese Funktion die Schildkröte um 50 Einheiten nach vorne laufen. Wenn Sie rückwärts laufen möchten, können Sie einfach negative Zahlen verwenden.\n",
    "\n",
    "`turn(90)`: Diese Funktion lässt die Schildkröte um 90° nach rechts drehen. Auch hier können negative Zahlen verwendet werden.\n",
    "\n",
    "`show()`: Diese Funktion zeigt die Zeichnung an. Sie können sich das ähnlich wie bei der `print()`-Funktion vorstellen. Sie müssen `show()` aufrufen wenn Sie die Zeichnung ansehen möchten."
   ]
  },
  {
   "cell_type": "markdown",
   "metadata": {},
   "source": [
    "## Eigene Zeichung erstellen\n",
    "\n",
    "Nun sollen Sie eigene Zeichnungen erstellen.\n",
    "\n",
    "**Aufgabe:**\n",
    "> Lassen Sie die Schildkröte ein Rechteck zeichnen."
   ]
  },
  {
   "cell_type": "code",
   "execution_count": null,
   "metadata": {},
   "outputs": [],
   "source": []
  },
  {
   "cell_type": "markdown",
   "metadata": {},
   "source": [
    "## Viel zu einfach\n",
    "\n",
    "Das mit dem Rechteck war vermutlich viel zu einfach für Sie. Machen wir es ein wenig schwieriger.\n",
    "\n",
    "**Aufgabe:**\n",
    "> Lassen Sie die Schildkröte ein gleichseitiges Dreieck zeichnen.\n",
    ">\n",
    "> Sie finden nach der Code-Zelle meine Musterlösung, versuchen Sie aber nicht davon abzuschreiben."
   ]
  },
  {
   "cell_type": "code",
   "execution_count": null,
   "metadata": {},
   "outputs": [],
   "source": []
  },
  {
   "cell_type": "markdown",
   "metadata": {},
   "source": [
    "Hier gibt es nicht nur eine richtige Lösung. Verwenden Sie hier was für Sie am meisten Sinn ergibt.\n",
    "\n",
    "**Musterlösung:**\n",
    "```python\n",
    "make_turtle()\n",
    "forward(50)\n",
    "turn(-120)\n",
    "forward(100)\n",
    "turn(-120)\n",
    "forward(100)\n",
    "turn(-120)\n",
    "forward(50)\n",
    "show()\n",
    "```"
   ]
  },
  {
   "cell_type": "markdown",
   "metadata": {},
   "source": [
    "## Den Stift heben\n",
    "\n",
    "Wir möchten nun vielleicht auch Formen zeichnen die nicht zusammenhängend sind. Damit das in diesem Programm geht, müssen wir der Schildkröte sagen, sie soll den Stift anheben. In der nächsten Zelle, finden Sie Code der eine gestrichelte Linie zeichnet."
   ]
  },
  {
   "cell_type": "code",
   "execution_count": 4,
   "metadata": {},
   "outputs": [
    {
     "data": {
      "application/vnd.jupyter.widget-view+json": {
       "model_id": "7c319d86f52f4083bd2700896a9647f9",
       "version_major": 2,
       "version_minor": 0
      },
      "text/plain": [
       "Canvas(height=400, width=400)"
      ]
     },
     "metadata": {},
     "output_type": "display_data"
    }
   ],
   "source": [
    "make_turtle()\n",
    "\n",
    "pen_up()\n",
    "forward(-100)\n",
    "pen_down()\n",
    "\n",
    "for i in range(10):\n",
    "    forward(10)\n",
    "    pen_up()\n",
    "    forward(10)\n",
    "    pen_down()\n",
    "\n",
    "show()"
   ]
  },
  {
   "cell_type": "markdown",
   "metadata": {},
   "source": [
    "## Wow! Mit Schleifen\n",
    "\n",
    "In der Zelle oben können Sie mehrere Dinge beobachten. Das erste fällt vlt nicht unbedingt auf, aber wenn wir einen neue Schildkröte mit `make_turtle()` erstellen, ist der Stift immer unten. Wollen wir also an einen anderen Ort laufen, müssen wir den Stift zuerst anheben. Hier wurde das gemacht damit der Strich etwas mehr in der Mitte ist.\n",
    "\n",
    "## `for`-Schleife\n",
    "\n",
    "Sie sehen das hier auch eine `for`-Scheife verwendet wurde. Das hat hier ganz einfache Gründe: Der Code innerhalb der Schleife wiederholt sich immer wieder, deshalb ist es hier praktisch eine Schleife zu verwenden.\n",
    "\n",
    "Die `for`-Schleife ist eigentlich nur eine Zählschleife. Sie zählt von 0 bis zu der Zahl die mit `range()` angegeben wird.\n",
    "\n",
    "Wir können dieses Wissen gleich nutzen und damit ein Quadrat erzeugen.\n",
    "\n",
    "**Aufgabe:**\n",
    "> Lassen Sie die Schildkröte ein Quadrat zeichnen. Nutzen Sie dafür eine `for`-Schleife."
   ]
  },
  {
   "cell_type": "code",
   "execution_count": null,
   "metadata": {},
   "outputs": [],
   "source": []
  },
  {
   "cell_type": "markdown",
   "metadata": {},
   "source": [
    "## Wieder viel zu einfach\n",
    "\n",
    "Auch das war vermutlich wieder viel zu einfach für Sie. machen wir es ein wenig spannender.\n",
    "\n",
    "**Aufgabe:**\n",
    "> Lassen Sie die Schildkröte ein regelmässiges 6-Eck zeichnen. Nutzen Sie auch hierfür eine `for`-Schleife."
   ]
  },
  {
   "cell_type": "markdown",
   "metadata": {},
   "source": [
    "## Und schon wieder Funktionen\n",
    "\n",
    "Ich gehe davon aus dass auch das viel zu einfach für Sie ist. In meiner Musterlösung sehen Sie das ich daraus eine Funktion gemacht habe. Ich habe das gemacht weil ich denke es könnte praktisch sein ein 6-Eck zu zeichnen, ohne immer überlegen zu müssen wie das gezeichnet wird.\n",
    "\n",
    "**Musterlösung:**\n",
    "\n",
    "```python\n",
    "def sechseck(length):\n",
    "    for i in range(6):\n",
    "        forward(length)\n",
    "        turn(60)\n",
    "\n",
    "make_turtle()\n",
    "sechseck(30)    \n",
    "show()\n",
    "```"
   ]
  },
  {
   "cell_type": "markdown",
   "metadata": {},
   "source": [
    "## Crazy Turtle\n",
    "\n",
    "Nun ist die Schildkröte durchgedreht... Sie läuft wie wild durch die Gegend und zeichnet überall 6-ecke..."
   ]
  },
  {
   "cell_type": "code",
   "execution_count": 15,
   "metadata": {},
   "outputs": [
    {
     "data": {
      "application/vnd.jupyter.widget-view+json": {
       "model_id": "e91288dd46f74aeabe15dd0e3f4e4adc",
       "version_major": 2,
       "version_minor": 0
      },
      "text/plain": [
       "Canvas(height=400, width=400)"
      ]
     },
     "metadata": {},
     "output_type": "display_data"
    }
   ],
   "source": [
    "from random import randint\n",
    "\n",
    "def sechseck(length):\n",
    "    for i in range(6):\n",
    "        forward(length)\n",
    "        turn(60)\n",
    "        \n",
    "def crazy():\n",
    "    pen_up()\n",
    "    turn(randint(0, 360))\n",
    "    forward(randint(40, 100))\n",
    "    pen_down()\n",
    "    sechseck(randint(10,20))\n",
    "\n",
    "make_turtle()\n",
    "for i in range(100):\n",
    "    crazy()\n",
    "\n",
    "show()"
   ]
  },
  {
   "cell_type": "markdown",
   "metadata": {},
   "source": [
    "## Ganz schön verrückt\n",
    "\n",
    "Sie sehen das es durchaus Sinn ergeben kann einige Teile vom Code in Funktionen auszulagern. Bevor wir uns das aber nochmals genauer anschauen, haben wir noch ein wenig Spass mit den Graphiken. Es ist auch möglich in eine alte Graphik zu zeichnen. Wenn Sie die `make_turtle()` Funktion einfach weglassen, zeichnen Sie in das Bild der letzen Turle.\n",
    "\n",
    "Da die verrückte Schildkröte manchmal auch davon laufen kann, könnne wir die `reset()`-Funktion verwenden. Diese Setzt die Schildkröte einfach wieder in den Mittelpunkt, und richtet sie nach rechts aus.\n",
    "\n",
    "**Hinweis:**\n",
    "> Wenn Sie die nächste Zelle ausführen, müssen Sie oben im Bild schauen was passiert!"
   ]
  },
  {
   "cell_type": "code",
   "execution_count": 16,
   "metadata": {},
   "outputs": [],
   "source": [
    "reset()\n",
    "for i in range(100):\n",
    "    crazy()\n",
    "    show()\n",
    "    sleep(0.1)"
   ]
  },
  {
   "cell_type": "markdown",
   "metadata": {},
   "source": [
    "## Schlafen\n",
    "\n",
    "Die Funktion `sleep()` ist neu. Mit ihr können wir das zeichnen kurz unterbrechen. Das geht jedoch nur wenn wir in ein altes Bild zeichnen, und es ist auch nur zum Spass gedacht, damit eine witzige Animation heraus kommt.\n",
    "\n",
    "## Farben\n",
    "\n",
    "Wir können das ganze noch ein wenig besser gestalten, indem wir Farben verwenden. Dafür rufen Sie einfach die Funktion `color()` auf. Der Funktion können Sie einen Farbnamen übergeben, und dann wir alles in der Farbe gezeichnet.\n",
    "\n",
    "**Aufgabe:**\n",
    "> Führen Sie den Code in der nächsten Zelle aus, dannach ändern Sie die Farbe, und schauen was passiert."
   ]
  },
  {
   "cell_type": "code",
   "execution_count": 19,
   "metadata": {},
   "outputs": [
    {
     "data": {
      "application/vnd.jupyter.widget-view+json": {
       "model_id": "bc33f0f26d004be4982ff6c78ce0d1a3",
       "version_major": 2,
       "version_minor": 0
      },
      "text/plain": [
       "Canvas(height=400, width=400)"
      ]
     },
     "metadata": {},
     "output_type": "display_data"
    }
   ],
   "source": [
    "make_turtle()\n",
    "\n",
    "color('blue')\n",
    "for i in range(10):\n",
    "    crazy()\n",
    "reset()\n",
    "color('red')\n",
    "for i in range(20):\n",
    "    crazy()\n",
    "show()"
   ]
  },
  {
   "cell_type": "markdown",
   "metadata": {},
   "source": [
    "## Farbe immer ändern\n",
    "\n",
    "Nun möchten wir gerne das sich die Farbe nach jedem zeichnen ändert. Ich gebe Ihnen in der nächsten Zelle das Gerüst dafür vor.\n",
    "\n",
    "**Aufgabe:**\n",
    "> Ergänzen Sie den Code so, das auch andere Farben verwendet werden."
   ]
  },
  {
   "cell_type": "code",
   "execution_count": 21,
   "metadata": {},
   "outputs": [
    {
     "data": {
      "application/vnd.jupyter.widget-view+json": {
       "model_id": "96ee2a7c0392400d87de21bab2c08fc2",
       "version_major": 2,
       "version_minor": 0
      },
      "text/plain": [
       "Canvas(height=400, width=400)"
      ]
     },
     "metadata": {},
     "output_type": "display_data"
    }
   ],
   "source": [
    "make_turtle()\n",
    "\n",
    "def choose_random_color():\n",
    "    random_number = randint(0,3)\n",
    "    if random_number == 0:\n",
    "        color('red')\n",
    "    else:\n",
    "        color('black')\n",
    "\n",
    "for i in range(100):\n",
    "    choose_random_color()\n",
    "    crazy()\n",
    "    \n",
    "show()"
   ]
  },
  {
   "cell_type": "markdown",
   "metadata": {},
   "source": [
    "## So kommt alles zusammen\n",
    "\n",
    "Sie sehen das alles was Sie bibs jetzt gelernt haben hier zusammen kommt. Schleifen sind extrem praktisch wenn sich Code wiederholen soll. Funktionen sind extrem wichtig wenn Sie etwas immer wieder im Code ausführen möchten. Verzweigungen brauchen Sie wenn sich das Programm nach einer bestimmten Logik unterschiedlich verhalten soll. Über Importe können Sie sehr viel mehr Funktionalität ganz einfach erreichen.\n",
    "\n",
    "**Aufgabe:**\n",
    "> Nutzen Sie nun Ihr ganzes Wissen und Ihre Kreativität um möglichst spannende Turtle-Graphics zu erstellen.\n",
    ">\n",
    "> Überlegen Sie sich dabei welche Teile des Codes Sie wieder verwenden möchten, und ob sich dieser parametrisieren (in eine Funktion mit Parametern) umschreiben lässt."
   ]
  },
  {
   "cell_type": "code",
   "execution_count": null,
   "metadata": {},
   "outputs": [],
   "source": []
  }
 ],
 "metadata": {
  "jupytext": {
   "cell_metadata_filter": "-all",
   "notebook_metadata_filter": "-all"
  },
  "kernelspec": {
   "display_name": "Python 3",
   "language": "python",
   "name": "python3"
  },
  "language_info": {
   "codemirror_mode": {
    "name": "ipython",
    "version": 3
   },
   "file_extension": ".py",
   "mimetype": "text/x-python",
   "name": "python",
   "nbconvert_exporter": "python",
   "pygments_lexer": "ipython3",
   "version": "3.8.6"
  }
 },
 "nbformat": 4,
 "nbformat_minor": 4
}
